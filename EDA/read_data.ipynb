{
 "cells": [
  {
   "cell_type": "code",
   "execution_count": 1,
   "id": "1f958f18-beec-4ba8-9e11-5e3748f29ebe",
   "metadata": {},
   "outputs": [],
   "source": [
    "import pandas as pd\n",
    "import numpy as np\n",
    "import sys\n",
    "sys.path.append('../utilities')\n",
    "from basic_utilities import *\n",
    "from model_utilities import *\n",
    "from pandas.plotting import scatter_matrix\n",
    "from ml_utilities import sk_feature_selection\n",
    "import scipy.stats as stats\n",
    "import pdb\n",
    "import os\n",
    "import warnings\n",
    "warnings.filterwarnings(\"ignore\")"
   ]
  },
  {
   "cell_type": "code",
   "execution_count": 2,
   "id": "fa6d72a7-4bd3-4ce3-a7c2-1a81c43cb581",
   "metadata": {},
   "outputs": [],
   "source": [
    "raw_data = pd.read_csv('../../../data/Base.csv')"
   ]
  },
  {
   "cell_type": "code",
   "execution_count": 3,
   "id": "334c22a3-51f9-4e9b-ac09-1321985e1e49",
   "metadata": {},
   "outputs": [
    {
     "data": {
      "text/plain": [
       "(1000000, 32)"
      ]
     },
     "execution_count": 3,
     "metadata": {},
     "output_type": "execute_result"
    }
   ],
   "source": [
    "raw_data.shape"
   ]
  },
  {
   "cell_type": "code",
   "execution_count": 4,
   "id": "c3739774-a897-404e-a69a-64e10260a4d0",
   "metadata": {},
   "outputs": [],
   "source": [
    "numeric_vars, str_vars, oth_vars = sort_vars(raw_data, raw_data.columns.tolist())"
   ]
  },
  {
   "cell_type": "code",
   "execution_count": 5,
   "id": "9d608ccc-36bb-4ddc-a1bc-bbebb9094855",
   "metadata": {},
   "outputs": [],
   "source": [
    "cap_n_floor = read_yaml_file('../Data_prep/cap_n_floor.yaml')"
   ]
  },
  {
   "cell_type": "code",
   "execution_count": 6,
   "id": "d8b7a99d-53b1-443a-9232-7b7920b68835",
   "metadata": {},
   "outputs": [],
   "source": [
    "floors = cap_n_floor['floors']"
   ]
  },
  {
   "cell_type": "code",
   "execution_count": 7,
   "id": "ad5e54ad-675f-4ef5-aaeb-3c7a5fa8818b",
   "metadata": {},
   "outputs": [],
   "source": [
    "for floor in floors:\n",
    "    temp = floor.split(',')\n",
    "    raw_data[temp[0]] = raw_data[temp[0]].apply(lambda x: np.nan if x < float(temp[1]) else x)"
   ]
  },
  {
   "cell_type": "code",
   "execution_count": 8,
   "id": "1ab19e86-4da4-4f70-b591-a4635dbc6666",
   "metadata": {},
   "outputs": [],
   "source": [
    "w = pd.ExcelWriter('proc_means.xlsx')\n",
    "with w as writer:\n",
    "    proc_means(raw_data, numeric_vars).to_excel(writer,sheet_name = 'all', startcol = 2, startrow = 2)\n",
    "    proc_means(raw_data.loc[raw_data['fraud_bool']==1], numeric_vars).to_excel(writer,sheet_name = 'fraud=1', startcol = 2, startrow = 2)"
   ]
  },
  {
   "cell_type": "code",
   "execution_count": 9,
   "id": "7b148083-6f8b-4ce7-b2b9-30cc8db1e914",
   "metadata": {},
   "outputs": [],
   "source": [
    "raw_data = raw_data.drop(columns=['prev_address_months_count','intended_balcon_amount','bank_months_count']);"
   ]
  },
  {
   "cell_type": "code",
   "execution_count": 10,
   "id": "186cd3f3-f6d2-422c-b154-00d0cef71739",
   "metadata": {},
   "outputs": [
    {
     "data": {
      "text/plain": [
       "(1000000, 29)"
      ]
     },
     "execution_count": 10,
     "metadata": {},
     "output_type": "execute_result"
    }
   ],
   "source": [
    "raw_data.shape"
   ]
  },
  {
   "cell_type": "code",
   "execution_count": 11,
   "id": "cb85e9d4-dac7-49c9-b961-412bc1c9a966",
   "metadata": {},
   "outputs": [],
   "source": [
    "raw_data = raw_data.dropna()"
   ]
  },
  {
   "cell_type": "code",
   "execution_count": 12,
   "id": "7f7b8b76-47a8-4a3f-bd5f-fec42f549cb5",
   "metadata": {},
   "outputs": [
    {
     "data": {
      "text/plain": [
       "(972571, 29)"
      ]
     },
     "execution_count": 12,
     "metadata": {},
     "output_type": "execute_result"
    }
   ],
   "source": [
    "raw_data.shape"
   ]
  },
  {
   "cell_type": "code",
   "execution_count": 13,
   "id": "bb484fcc-35f7-43e9-9163-c0ea3400a8b3",
   "metadata": {},
   "outputs": [],
   "source": [
    "numeric_vars.remove('prev_address_months_count')\n",
    "numeric_vars.remove('intended_balcon_amount')\n",
    "numeric_vars.remove('bank_months_count')"
   ]
  },
  {
   "cell_type": "code",
   "execution_count": 14,
   "id": "eeb0ac77-efb5-4d9b-a6c8-af1d70e41d1d",
   "metadata": {},
   "outputs": [
    {
     "data": {
      "text/html": [
       "<div>\n",
       "<style scoped>\n",
       "    .dataframe tbody tr th:only-of-type {\n",
       "        vertical-align: middle;\n",
       "    }\n",
       "\n",
       "    .dataframe tbody tr th {\n",
       "        vertical-align: top;\n",
       "    }\n",
       "\n",
       "    .dataframe thead th {\n",
       "        text-align: right;\n",
       "    }\n",
       "</style>\n",
       "<table border=\"1\" class=\"dataframe\">\n",
       "  <thead>\n",
       "    <tr style=\"text-align: right;\">\n",
       "      <th></th>\n",
       "      <th>feature</th>\n",
       "      <th>rescaled_std</th>\n",
       "      <th>recommendation</th>\n",
       "      <th>outliers</th>\n",
       "    </tr>\n",
       "  </thead>\n",
       "  <tbody>\n",
       "    <tr>\n",
       "      <th>0</th>\n",
       "      <td>email_is_free</td>\n",
       "      <td>0.498973</td>\n",
       "      <td>keep</td>\n",
       "      <td>False</td>\n",
       "    </tr>\n",
       "    <tr>\n",
       "      <th>1</th>\n",
       "      <td>keep_alive_session</td>\n",
       "      <td>0.493624</td>\n",
       "      <td>keep</td>\n",
       "      <td>False</td>\n",
       "    </tr>\n",
       "    <tr>\n",
       "      <th>2</th>\n",
       "      <td>phone_home_valid</td>\n",
       "      <td>0.493541</td>\n",
       "      <td>keep</td>\n",
       "      <td>False</td>\n",
       "    </tr>\n",
       "    <tr>\n",
       "      <th>3</th>\n",
       "      <td>has_other_cards</td>\n",
       "      <td>0.418742</td>\n",
       "      <td>keep</td>\n",
       "      <td>False</td>\n",
       "    </tr>\n",
       "    <tr>\n",
       "      <th>4</th>\n",
       "      <td>proposed_credit_limit</td>\n",
       "      <td>0.366070</td>\n",
       "      <td>keep</td>\n",
       "      <td>False</td>\n",
       "    </tr>\n",
       "    <tr>\n",
       "      <th>5</th>\n",
       "      <td>income</td>\n",
       "      <td>0.361955</td>\n",
       "      <td>keep</td>\n",
       "      <td>False</td>\n",
       "    </tr>\n",
       "    <tr>\n",
       "      <th>6</th>\n",
       "      <td>month</td>\n",
       "      <td>0.315372</td>\n",
       "      <td>keep</td>\n",
       "      <td>False</td>\n",
       "    </tr>\n",
       "    <tr>\n",
       "      <th>7</th>\n",
       "      <td>phone_mobile_valid</td>\n",
       "      <td>0.314493</td>\n",
       "      <td>keep</td>\n",
       "      <td>False</td>\n",
       "    </tr>\n",
       "    <tr>\n",
       "      <th>8</th>\n",
       "      <td>name_email_similarity</td>\n",
       "      <td>0.290629</td>\n",
       "      <td>keep</td>\n",
       "      <td>False</td>\n",
       "    </tr>\n",
       "    <tr>\n",
       "      <th>9</th>\n",
       "      <td>customer_age</td>\n",
       "      <td>0.279296</td>\n",
       "      <td>keep</td>\n",
       "      <td>False</td>\n",
       "    </tr>\n",
       "    <tr>\n",
       "      <th>10</th>\n",
       "      <td>velocity_4w</td>\n",
       "      <td>0.238744</td>\n",
       "      <td>keep</td>\n",
       "      <td>False</td>\n",
       "    </tr>\n",
       "    <tr>\n",
       "      <th>11</th>\n",
       "      <td>current_address_months_count</td>\n",
       "      <td>0.226847</td>\n",
       "      <td>keep</td>\n",
       "      <td>False</td>\n",
       "    </tr>\n",
       "    <tr>\n",
       "      <th>12</th>\n",
       "      <td>date_of_birth_distinct_emails_4w</td>\n",
       "      <td>0.217462</td>\n",
       "      <td>keep</td>\n",
       "      <td>False</td>\n",
       "    </tr>\n",
       "    <tr>\n",
       "      <th>13</th>\n",
       "      <td>velocity_6h</td>\n",
       "      <td>0.215369</td>\n",
       "      <td>keep</td>\n",
       "      <td>False</td>\n",
       "    </tr>\n",
       "    <tr>\n",
       "      <th>14</th>\n",
       "      <td>bank_branch_count_8w</td>\n",
       "      <td>0.213590</td>\n",
       "      <td>keep</td>\n",
       "      <td>False</td>\n",
       "    </tr>\n",
       "    <tr>\n",
       "      <th>15</th>\n",
       "      <td>velocity_24h</td>\n",
       "      <td>0.213461</td>\n",
       "      <td>keep</td>\n",
       "      <td>False</td>\n",
       "    </tr>\n",
       "    <tr>\n",
       "      <th>16</th>\n",
       "      <td>credit_risk_score</td>\n",
       "      <td>0.203774</td>\n",
       "      <td>keep</td>\n",
       "      <td>False</td>\n",
       "    </tr>\n",
       "    <tr>\n",
       "      <th>17</th>\n",
       "      <td>zip_count_4w</td>\n",
       "      <td>0.196431</td>\n",
       "      <td>keep</td>\n",
       "      <td>False</td>\n",
       "    </tr>\n",
       "    <tr>\n",
       "      <th>18</th>\n",
       "      <td>device_distinct_emails_8w</td>\n",
       "      <td>0.157774</td>\n",
       "      <td>keep</td>\n",
       "      <td>False</td>\n",
       "    </tr>\n",
       "    <tr>\n",
       "      <th>19</th>\n",
       "      <td>foreign_request</td>\n",
       "      <td>0.157605</td>\n",
       "      <td>keep</td>\n",
       "      <td>False</td>\n",
       "    </tr>\n",
       "    <tr>\n",
       "      <th>20</th>\n",
       "      <td>session_length_in_minutes</td>\n",
       "      <td>0.147086</td>\n",
       "      <td>keep</td>\n",
       "      <td>False</td>\n",
       "    </tr>\n",
       "    <tr>\n",
       "      <th>21</th>\n",
       "      <td>days_since_request</td>\n",
       "      <td>0.118929</td>\n",
       "      <td>keep</td>\n",
       "      <td>False</td>\n",
       "    </tr>\n",
       "    <tr>\n",
       "      <th>22</th>\n",
       "      <td>fraud_bool</td>\n",
       "      <td>0.105370</td>\n",
       "      <td>keep</td>\n",
       "      <td>False</td>\n",
       "    </tr>\n",
       "    <tr>\n",
       "      <th>23</th>\n",
       "      <td>device_fraud_count</td>\n",
       "      <td>NaN</td>\n",
       "      <td>drop</td>\n",
       "      <td>False</td>\n",
       "    </tr>\n",
       "  </tbody>\n",
       "</table>\n",
       "</div>"
      ],
      "text/plain": [
       "                             feature  rescaled_std recommendation  outliers\n",
       "0                      email_is_free      0.498973           keep     False\n",
       "1                 keep_alive_session      0.493624           keep     False\n",
       "2                   phone_home_valid      0.493541           keep     False\n",
       "3                    has_other_cards      0.418742           keep     False\n",
       "4              proposed_credit_limit      0.366070           keep     False\n",
       "5                             income      0.361955           keep     False\n",
       "6                              month      0.315372           keep     False\n",
       "7                 phone_mobile_valid      0.314493           keep     False\n",
       "8              name_email_similarity      0.290629           keep     False\n",
       "9                       customer_age      0.279296           keep     False\n",
       "10                       velocity_4w      0.238744           keep     False\n",
       "11      current_address_months_count      0.226847           keep     False\n",
       "12  date_of_birth_distinct_emails_4w      0.217462           keep     False\n",
       "13                       velocity_6h      0.215369           keep     False\n",
       "14              bank_branch_count_8w      0.213590           keep     False\n",
       "15                      velocity_24h      0.213461           keep     False\n",
       "16                 credit_risk_score      0.203774           keep     False\n",
       "17                      zip_count_4w      0.196431           keep     False\n",
       "18         device_distinct_emails_8w      0.157774           keep     False\n",
       "19                   foreign_request      0.157605           keep     False\n",
       "20         session_length_in_minutes      0.147086           keep     False\n",
       "21                days_since_request      0.118929           keep     False\n",
       "22                        fraud_bool      0.105370           keep     False\n",
       "23                device_fraud_count           NaN           drop     False"
      ]
     },
     "execution_count": 14,
     "metadata": {},
     "output_type": "execute_result"
    }
   ],
   "source": [
    "low_variation_vars =  sk_feature_selection.f_low_variation(raw_data, numeric_vars, 0.05)\n",
    "low_variation_vars"
   ]
  },
  {
   "cell_type": "code",
   "execution_count": 15,
   "id": "d0c3ff2c-f37b-4c31-98e9-396b21c15606",
   "metadata": {},
   "outputs": [
    {
     "data": {
      "text/plain": [
       "['fraud_bool',\n",
       " 'income',\n",
       " 'name_email_similarity',\n",
       " 'current_address_months_count',\n",
       " 'customer_age',\n",
       " 'days_since_request',\n",
       " 'zip_count_4w',\n",
       " 'velocity_6h',\n",
       " 'velocity_24h',\n",
       " 'velocity_4w',\n",
       " 'bank_branch_count_8w',\n",
       " 'date_of_birth_distinct_emails_4w',\n",
       " 'credit_risk_score',\n",
       " 'email_is_free',\n",
       " 'phone_home_valid',\n",
       " 'phone_mobile_valid',\n",
       " 'has_other_cards',\n",
       " 'proposed_credit_limit',\n",
       " 'foreign_request',\n",
       " 'session_length_in_minutes',\n",
       " 'keep_alive_session',\n",
       " 'device_distinct_emails_8w',\n",
       " 'month']"
      ]
     },
     "execution_count": 15,
     "metadata": {},
     "output_type": "execute_result"
    }
   ],
   "source": [
    "numeric_vars.remove('device_fraud_count')\n",
    "numeric_vars"
   ]
  },
  {
   "cell_type": "code",
   "execution_count": 16,
   "id": "66d08264-827a-4efa-b18f-56bf76cd84f8",
   "metadata": {},
   "outputs": [
    {
     "data": {
      "text/plain": [
       "['payment_type', 'employment_status', 'housing_status', 'source', 'device_os']"
      ]
     },
     "execution_count": 16,
     "metadata": {},
     "output_type": "execute_result"
    }
   ],
   "source": [
    "str_vars"
   ]
  },
  {
   "cell_type": "code",
   "execution_count": 17,
   "id": "e97d7540-027e-43dd-a700-92827aa0e156",
   "metadata": {},
   "outputs": [
    {
     "data": {
      "text/plain": [
       "[]"
      ]
     },
     "execution_count": 17,
     "metadata": {},
     "output_type": "execute_result"
    }
   ],
   "source": [
    "oth_vars"
   ]
  },
  {
   "cell_type": "code",
   "execution_count": 18,
   "id": "0864a5bb-6e9a-461c-b591-1c6134358001",
   "metadata": {},
   "outputs": [],
   "source": [
    "w = pd.ExcelWriter('proc_means.xlsx')\n",
    "with w as writer:\n",
    "    proc_means(raw_data, numeric_vars).to_excel(writer,sheet_name = 'all', startcol = 2, startrow = 2)\n",
    "    proc_means(raw_data.loc[raw_data['fraud_bool']==1], numeric_vars).to_excel(writer,sheet_name = 'fraud=1', startcol = 2, startrow = 2)"
   ]
  },
  {
   "cell_type": "code",
   "execution_count": 19,
   "id": "f8d69e1e-a081-4c3d-9bfb-fec02c562d5a",
   "metadata": {},
   "outputs": [],
   "source": [
    "raw_data['orig_weight'] = 1"
   ]
  },
  {
   "cell_type": "code",
   "execution_count": 20,
   "id": "ced06729-58e2-4245-b2cc-6202b9b23cfd",
   "metadata": {},
   "outputs": [
    {
     "data": {
      "text/html": [
       "<div>\n",
       "<style scoped>\n",
       "    .dataframe tbody tr th:only-of-type {\n",
       "        vertical-align: middle;\n",
       "    }\n",
       "\n",
       "    .dataframe tbody tr th {\n",
       "        vertical-align: top;\n",
       "    }\n",
       "\n",
       "    .dataframe thead th {\n",
       "        text-align: right;\n",
       "    }\n",
       "</style>\n",
       "<table border=\"1\" class=\"dataframe\">\n",
       "  <thead>\n",
       "    <tr style=\"text-align: right;\">\n",
       "      <th></th>\n",
       "      <th>month</th>\n",
       "      <th>count</th>\n",
       "      <th>WA_fraud_bool</th>\n",
       "      <th>mean_income</th>\n",
       "      <th>mean_credit_risk_score</th>\n",
       "    </tr>\n",
       "  </thead>\n",
       "  <tbody>\n",
       "    <tr>\n",
       "      <th>0</th>\n",
       "      <td>0</td>\n",
       "      <td>129626</td>\n",
       "      <td>0.011464</td>\n",
       "      <td>0.5</td>\n",
       "      <td>118.0</td>\n",
       "    </tr>\n",
       "    <tr>\n",
       "      <th>1</th>\n",
       "      <td>1</td>\n",
       "      <td>123762</td>\n",
       "      <td>0.009583</td>\n",
       "      <td>0.5</td>\n",
       "      <td>110.0</td>\n",
       "    </tr>\n",
       "    <tr>\n",
       "      <th>2</th>\n",
       "      <td>2</td>\n",
       "      <td>133444</td>\n",
       "      <td>0.008865</td>\n",
       "      <td>0.5</td>\n",
       "      <td>112.0</td>\n",
       "    </tr>\n",
       "    <tr>\n",
       "      <th>3</th>\n",
       "      <td>3</td>\n",
       "      <td>147725</td>\n",
       "      <td>0.009355</td>\n",
       "      <td>0.6</td>\n",
       "      <td>146.0</td>\n",
       "    </tr>\n",
       "    <tr>\n",
       "      <th>4</th>\n",
       "      <td>4</td>\n",
       "      <td>123709</td>\n",
       "      <td>0.011632</td>\n",
       "      <td>0.6</td>\n",
       "      <td>138.0</td>\n",
       "    </tr>\n",
       "    <tr>\n",
       "      <th>5</th>\n",
       "      <td>5</td>\n",
       "      <td>116154</td>\n",
       "      <td>0.012044</td>\n",
       "      <td>0.6</td>\n",
       "      <td>143.0</td>\n",
       "    </tr>\n",
       "    <tr>\n",
       "      <th>6</th>\n",
       "      <td>6</td>\n",
       "      <td>105305</td>\n",
       "      <td>0.013637</td>\n",
       "      <td>0.6</td>\n",
       "      <td>149.0</td>\n",
       "    </tr>\n",
       "    <tr>\n",
       "      <th>7</th>\n",
       "      <td>7</td>\n",
       "      <td>92846</td>\n",
       "      <td>0.015186</td>\n",
       "      <td>0.6</td>\n",
       "      <td>143.0</td>\n",
       "    </tr>\n",
       "  </tbody>\n",
       "</table>\n",
       "</div>"
      ],
      "text/plain": [
       "   month   count  WA_fraud_bool  mean_income  mean_credit_risk_score\n",
       "0      0  129626       0.011464          0.5                   118.0\n",
       "1      1  123762       0.009583          0.5                   110.0\n",
       "2      2  133444       0.008865          0.5                   112.0\n",
       "3      3  147725       0.009355          0.6                   146.0\n",
       "4      4  123709       0.011632          0.6                   138.0\n",
       "5      5  116154       0.012044          0.6                   143.0\n",
       "6      6  105305       0.013637          0.6                   149.0\n",
       "7      7   92846       0.015186          0.6                   143.0"
      ]
     },
     "execution_count": 20,
     "metadata": {},
     "output_type": "execute_result"
    }
   ],
   "source": [
    "summary_by_month = pivot(raw_data, varlist={'fraud_bool':('weighted_avg','orig_weight'),'income':'mean', \n",
    "                                            'credit_risk_score':'mean'}, by_vars = ['month'])\n",
    "summary_by_month"
   ]
  },
  {
   "cell_type": "code",
   "execution_count": 21,
   "id": "ecca09d6-78af-4272-8442-028f533a1079",
   "metadata": {},
   "outputs": [],
   "source": [
    "qcut_vars = ['income','name_email_similarity', 'current_address_months_count', 'customer_age', \\\n",
    "            'velocity_6h', 'velocity_24h', 'velocity_4w', 'bank_branch_count_8w', \\\n",
    "            'date_of_birth_distinct_emails_4w', 'credit_risk_score','proposed_credit_limit', \\\n",
    "            'session_length_in_minutes']"
   ]
  },
  {
   "cell_type": "code",
   "execution_count": 22,
   "id": "47eb3229-26f6-49c0-9f77-0352a2940cf4",
   "metadata": {},
   "outputs": [],
   "source": [
    "qcut_dict = {}\n",
    "for var in qcut_vars:\n",
    "    qcut_dict[var] = [i*0.05 for i in range(1,20)]"
   ]
  },
  {
   "cell_type": "code",
   "execution_count": 23,
   "id": "7613abb7-a9c5-44de-bb0c-77ea2baecfbb",
   "metadata": {},
   "outputs": [],
   "source": [
    "raw_data, cps = binning_q(raw_data, qcut_dict)"
   ]
  },
  {
   "cell_type": "code",
   "execution_count": 24,
   "id": "d1ac898f-3c79-4b2b-854a-f4fb91c53206",
   "metadata": {},
   "outputs": [
    {
     "data": {
      "text/html": [
       "<div>\n",
       "<style scoped>\n",
       "    .dataframe tbody tr th:only-of-type {\n",
       "        vertical-align: middle;\n",
       "    }\n",
       "\n",
       "    .dataframe tbody tr th {\n",
       "        vertical-align: top;\n",
       "    }\n",
       "\n",
       "    .dataframe thead th {\n",
       "        text-align: right;\n",
       "    }\n",
       "</style>\n",
       "<table border=\"1\" class=\"dataframe\">\n",
       "  <thead>\n",
       "    <tr style=\"text-align: right;\">\n",
       "      <th></th>\n",
       "      <th>fraud_bool</th>\n",
       "      <th>income</th>\n",
       "      <th>name_email_similarity</th>\n",
       "      <th>current_address_months_count</th>\n",
       "      <th>customer_age</th>\n",
       "      <th>days_since_request</th>\n",
       "      <th>payment_type</th>\n",
       "      <th>zip_count_4w</th>\n",
       "      <th>velocity_6h</th>\n",
       "      <th>velocity_24h</th>\n",
       "      <th>...</th>\n",
       "      <th>current_address_months_count_bin</th>\n",
       "      <th>customer_age_bin</th>\n",
       "      <th>velocity_6h_bin</th>\n",
       "      <th>velocity_24h_bin</th>\n",
       "      <th>velocity_4w_bin</th>\n",
       "      <th>bank_branch_count_8w_bin</th>\n",
       "      <th>date_of_birth_distinct_emails_4w_bin</th>\n",
       "      <th>credit_risk_score_bin</th>\n",
       "      <th>proposed_credit_limit_bin</th>\n",
       "      <th>session_length_in_minutes_bin</th>\n",
       "    </tr>\n",
       "  </thead>\n",
       "  <tbody>\n",
       "    <tr>\n",
       "      <th>0</th>\n",
       "      <td>0</td>\n",
       "      <td>0.3</td>\n",
       "      <td>0.986506</td>\n",
       "      <td>25.0</td>\n",
       "      <td>40.0</td>\n",
       "      <td>0.006735</td>\n",
       "      <td>AA</td>\n",
       "      <td>1059</td>\n",
       "      <td>13096.035018</td>\n",
       "      <td>7850.955007</td>\n",
       "      <td>...</td>\n",
       "      <td>(20.0, 28.0]</td>\n",
       "      <td>(30.0, 40.0]</td>\n",
       "      <td>nan</td>\n",
       "      <td>nan</td>\n",
       "      <td>nan</td>\n",
       "      <td>(3.0, 6.0]</td>\n",
       "      <td>(4.0, 5.0]</td>\n",
       "      <td>(153.0, 166.0]</td>\n",
       "      <td>(1000.0, 1500.0]</td>\n",
       "      <td>(15.5, 21.6]</td>\n",
       "    </tr>\n",
       "    <tr>\n",
       "      <th>1</th>\n",
       "      <td>0</td>\n",
       "      <td>0.8</td>\n",
       "      <td>0.617426</td>\n",
       "      <td>89.0</td>\n",
       "      <td>20.0</td>\n",
       "      <td>0.010095</td>\n",
       "      <td>AD</td>\n",
       "      <td>1658</td>\n",
       "      <td>9223.283431</td>\n",
       "      <td>5745.251481</td>\n",
       "      <td>...</td>\n",
       "      <td>(87.0, 108.0]</td>\n",
       "      <td>(19.0, 30.0]</td>\n",
       "      <td>(8776.0, 9631.0]</td>\n",
       "      <td>(5518.0, 5751.0]</td>\n",
       "      <td>(5680.0, 6004.0]</td>\n",
       "      <td>(2.0, 3.0]</td>\n",
       "      <td>(16.0, 19.0]</td>\n",
       "      <td>(153.0, 166.0]</td>\n",
       "      <td>(1000.0, 1500.0]</td>\n",
       "      <td>(3.1, 3.5]</td>\n",
       "    </tr>\n",
       "    <tr>\n",
       "      <th>2</th>\n",
       "      <td>0</td>\n",
       "      <td>0.8</td>\n",
       "      <td>0.996707</td>\n",
       "      <td>14.0</td>\n",
       "      <td>40.0</td>\n",
       "      <td>0.012316</td>\n",
       "      <td>AB</td>\n",
       "      <td>1095</td>\n",
       "      <td>4471.472149</td>\n",
       "      <td>5471.988958</td>\n",
       "      <td>...</td>\n",
       "      <td>(10.0, 14.0]</td>\n",
       "      <td>(30.0, 40.0]</td>\n",
       "      <td>(4211.0, 4565.0]</td>\n",
       "      <td>(5299.0, 5518.0]</td>\n",
       "      <td>(5680.0, 6004.0]</td>\n",
       "      <td>(13.0, 15.0]</td>\n",
       "      <td>(10.0, 11.0]</td>\n",
       "      <td>(83.0, 92.0]</td>\n",
       "      <td>(199.0, 500.0]</td>\n",
       "      <td>nan</td>\n",
       "    </tr>\n",
       "    <tr>\n",
       "      <th>3</th>\n",
       "      <td>0</td>\n",
       "      <td>0.6</td>\n",
       "      <td>0.475100</td>\n",
       "      <td>14.0</td>\n",
       "      <td>30.0</td>\n",
       "      <td>0.006991</td>\n",
       "      <td>AB</td>\n",
       "      <td>3483</td>\n",
       "      <td>14431.993621</td>\n",
       "      <td>6755.344479</td>\n",
       "      <td>...</td>\n",
       "      <td>(10.0, 14.0]</td>\n",
       "      <td>(19.0, 30.0]</td>\n",
       "      <td>nan</td>\n",
       "      <td>(6363.0, 6818.0]</td>\n",
       "      <td>(5680.0, 6004.0]</td>\n",
       "      <td>(9.0, 11.0]</td>\n",
       "      <td>(12.0, 13.0]</td>\n",
       "      <td>(83.0, 92.0]</td>\n",
       "      <td>(199.0, 500.0]</td>\n",
       "      <td>(12.3, 15.5]</td>\n",
       "    </tr>\n",
       "    <tr>\n",
       "      <th>4</th>\n",
       "      <td>0</td>\n",
       "      <td>0.9</td>\n",
       "      <td>0.842307</td>\n",
       "      <td>29.0</td>\n",
       "      <td>40.0</td>\n",
       "      <td>5.742626</td>\n",
       "      <td>AA</td>\n",
       "      <td>2339</td>\n",
       "      <td>7601.511579</td>\n",
       "      <td>5124.046930</td>\n",
       "      <td>...</td>\n",
       "      <td>(28.0, 34.0]</td>\n",
       "      <td>(30.0, 40.0]</td>\n",
       "      <td>(7148.0, 7680.0]</td>\n",
       "      <td>(5102.0, 5299.0]</td>\n",
       "      <td>(5680.0, 6004.0]</td>\n",
       "      <td>(-0.1, 1.0]</td>\n",
       "      <td>(5.0, 6.0]</td>\n",
       "      <td>(83.0, 92.0]</td>\n",
       "      <td>(199.0, 500.0]</td>\n",
       "      <td>(3.5, 3.9]</td>\n",
       "    </tr>\n",
       "  </tbody>\n",
       "</table>\n",
       "<p>5 rows × 42 columns</p>\n",
       "</div>"
      ],
      "text/plain": [
       "   fraud_bool  income  name_email_similarity  current_address_months_count  \\\n",
       "0           0     0.3               0.986506                          25.0   \n",
       "1           0     0.8               0.617426                          89.0   \n",
       "2           0     0.8               0.996707                          14.0   \n",
       "3           0     0.6               0.475100                          14.0   \n",
       "4           0     0.9               0.842307                          29.0   \n",
       "\n",
       "   customer_age  days_since_request payment_type  zip_count_4w   velocity_6h  \\\n",
       "0          40.0            0.006735           AA          1059  13096.035018   \n",
       "1          20.0            0.010095           AD          1658   9223.283431   \n",
       "2          40.0            0.012316           AB          1095   4471.472149   \n",
       "3          30.0            0.006991           AB          3483  14431.993621   \n",
       "4          40.0            5.742626           AA          2339   7601.511579   \n",
       "\n",
       "   velocity_24h  ...  current_address_months_count_bin  customer_age_bin  \\\n",
       "0   7850.955007  ...                      (20.0, 28.0]      (30.0, 40.0]   \n",
       "1   5745.251481  ...                     (87.0, 108.0]      (19.0, 30.0]   \n",
       "2   5471.988958  ...                      (10.0, 14.0]      (30.0, 40.0]   \n",
       "3   6755.344479  ...                      (10.0, 14.0]      (19.0, 30.0]   \n",
       "4   5124.046930  ...                      (28.0, 34.0]      (30.0, 40.0]   \n",
       "\n",
       "    velocity_6h_bin  velocity_24h_bin   velocity_4w_bin  \\\n",
       "0               nan               nan               nan   \n",
       "1  (8776.0, 9631.0]  (5518.0, 5751.0]  (5680.0, 6004.0]   \n",
       "2  (4211.0, 4565.0]  (5299.0, 5518.0]  (5680.0, 6004.0]   \n",
       "3               nan  (6363.0, 6818.0]  (5680.0, 6004.0]   \n",
       "4  (7148.0, 7680.0]  (5102.0, 5299.0]  (5680.0, 6004.0]   \n",
       "\n",
       "   bank_branch_count_8w_bin date_of_birth_distinct_emails_4w_bin  \\\n",
       "0                (3.0, 6.0]                           (4.0, 5.0]   \n",
       "1                (2.0, 3.0]                         (16.0, 19.0]   \n",
       "2              (13.0, 15.0]                         (10.0, 11.0]   \n",
       "3               (9.0, 11.0]                         (12.0, 13.0]   \n",
       "4               (-0.1, 1.0]                           (5.0, 6.0]   \n",
       "\n",
       "   credit_risk_score_bin  proposed_credit_limit_bin  \\\n",
       "0         (153.0, 166.0]           (1000.0, 1500.0]   \n",
       "1         (153.0, 166.0]           (1000.0, 1500.0]   \n",
       "2           (83.0, 92.0]             (199.0, 500.0]   \n",
       "3           (83.0, 92.0]             (199.0, 500.0]   \n",
       "4           (83.0, 92.0]             (199.0, 500.0]   \n",
       "\n",
       "   session_length_in_minutes_bin  \n",
       "0                   (15.5, 21.6]  \n",
       "1                     (3.1, 3.5]  \n",
       "2                            nan  \n",
       "3                   (12.3, 15.5]  \n",
       "4                     (3.5, 3.9]  \n",
       "\n",
       "[5 rows x 42 columns]"
      ]
     },
     "execution_count": 24,
     "metadata": {},
     "output_type": "execute_result"
    }
   ],
   "source": [
    "raw_data.head()"
   ]
  },
  {
   "cell_type": "code",
   "execution_count": 25,
   "id": "1579e57c-a0b3-4146-a2aa-8191447a2f6f",
   "metadata": {
    "scrolled": true
   },
   "outputs": [],
   "source": [
    "figs = []\n",
    "for var in qcut_vars:\n",
    "    var_bin = f\"{var}_bin\"\n",
    "    xy = pivot(raw_data, varlist={'fraud_bool':'logodds', var:'mean'}, by_vars = [var_bin])\n",
    "    figs.append(px_scatter_plot(xy, f'mean_{var}', 'logodds_fraud_bool', show=False))"
   ]
  },
  {
   "cell_type": "code",
   "execution_count": 26,
   "id": "6dcff7fd-a5ef-40d1-8379-762286dd8dc2",
   "metadata": {},
   "outputs": [],
   "source": [
    "if os.path.exists(\"logodds_plots.html\"):\n",
    "  os.remove(\"logodds_plots.html\")\n",
    "    \n",
    "with open('logodds_plots.html', 'a') as file:\n",
    "    for f in figs:\n",
    "        file.write(f.to_html())"
   ]
  },
  {
   "cell_type": "code",
   "execution_count": 27,
   "id": "b364dd4f-11b3-4cd6-b7d8-fea333742014",
   "metadata": {},
   "outputs": [],
   "source": [
    "raw_data['zip_count_4w_level'] = raw_data['zip_count_4w'].apply(lambda x: 'low' if x <= 950 else ('mid' if 950 < x < 1850 else 'high'))"
   ]
  },
  {
   "cell_type": "code",
   "execution_count": 28,
   "id": "19dca315-178f-46aa-a00f-b1cc3acb6f76",
   "metadata": {},
   "outputs": [
    {
     "data": {
      "text/plain": [
       "zip_count_4w_level\n",
       "mid     426837\n",
       "low     279064\n",
       "high    266670\n",
       "Name: count, dtype: int64"
      ]
     },
     "execution_count": 28,
     "metadata": {},
     "output_type": "execute_result"
    }
   ],
   "source": [
    "raw_data['zip_count_4w_level'].value_counts()"
   ]
  },
  {
   "cell_type": "code",
   "execution_count": 29,
   "id": "f18f5774-749a-4384-b733-3203e522d4f6",
   "metadata": {},
   "outputs": [
    {
     "data": {
      "text/plain": [
       "month\n",
       "3    147725\n",
       "2    133444\n",
       "0    129626\n",
       "1    123762\n",
       "4    123709\n",
       "5    116154\n",
       "6    105305\n",
       "7     92846\n",
       "Name: count, dtype: int64"
      ]
     },
     "execution_count": 29,
     "metadata": {},
     "output_type": "execute_result"
    }
   ],
   "source": [
    "raw_data['month'].value_counts()"
   ]
  },
  {
   "cell_type": "code",
   "execution_count": 30,
   "id": "8ff46623-44c6-46e6-9769-74b744404f6b",
   "metadata": {},
   "outputs": [],
   "source": [
    "figs = []\n",
    "for var in qcut_vars:\n",
    "    var_bin = f\"{var}_bin\"\n",
    "\n",
    "    xy1 = pivot(raw_data.loc[raw_data['zip_count_4w_level']=='low'], varlist={'fraud_bool':'logodds', var:'mean'}, by_vars = ['month',var_bin])\n",
    "    xy2 = pivot(raw_data.loc[raw_data['zip_count_4w_level']=='mid'], varlist={'fraud_bool':'logodds', var:'mean'}, by_vars = ['month',var_bin])\n",
    "    xy3 = pivot(raw_data.loc[raw_data['zip_count_4w_level']=='high'], varlist={'fraud_bool':'logodds', var:'mean'}, by_vars = ['month',var_bin])\n",
    "\n",
    "    xy1['zip_count_4w_level'] = 'low'\n",
    "    xy2['zip_count_4w_level'] = 'mid'\n",
    "    xy3['zip_count_4w_level'] = 'high'\n",
    "    \n",
    "    xy = pd.concat([xy1,xy2,xy3],axis=0)\n",
    "\n",
    "    figs.append(px_scatter_plot(xy, f'mean_{var}', 'logodds_fraud_bool', by_var1 = 'month', by_var2 = 'zip_count_4w_level' ,show=False))\n"
   ]
  },
  {
   "cell_type": "code",
   "execution_count": 31,
   "id": "cc8d4672-2d7f-4e5a-843f-0599756471a8",
   "metadata": {},
   "outputs": [],
   "source": [
    "if os.path.exists(\"logodds_plots_level.html\"):\n",
    "  os.remove(\"logodds_plots_level.html\")"
   ]
  },
  {
   "cell_type": "code",
   "execution_count": 32,
   "id": "fed2fa7b-56ec-4192-b670-6083eb2a937a",
   "metadata": {},
   "outputs": [],
   "source": [
    "with open('logodds_plots_level.html', 'a') as file:\n",
    "    for f in figs:\n",
    "        file.write(f.to_html())"
   ]
  },
  {
   "cell_type": "code",
   "execution_count": 33,
   "id": "bffd7962-6a71-497e-a82d-4209f7e30683",
   "metadata": {},
   "outputs": [
    {
     "data": {
      "text/html": [
       "<div>\n",
       "<style scoped>\n",
       "    .dataframe tbody tr th:only-of-type {\n",
       "        vertical-align: middle;\n",
       "    }\n",
       "\n",
       "    .dataframe tbody tr th {\n",
       "        vertical-align: top;\n",
       "    }\n",
       "\n",
       "    .dataframe thead th {\n",
       "        text-align: right;\n",
       "    }\n",
       "</style>\n",
       "<table border=\"1\" class=\"dataframe\">\n",
       "  <thead>\n",
       "    <tr style=\"text-align: right;\">\n",
       "      <th>month</th>\n",
       "      <th>0</th>\n",
       "      <th>1</th>\n",
       "      <th>2</th>\n",
       "      <th>3</th>\n",
       "      <th>4</th>\n",
       "      <th>5</th>\n",
       "      <th>6</th>\n",
       "      <th>7</th>\n",
       "    </tr>\n",
       "    <tr>\n",
       "      <th>fraud_bool</th>\n",
       "      <th></th>\n",
       "      <th></th>\n",
       "      <th></th>\n",
       "      <th></th>\n",
       "      <th></th>\n",
       "      <th></th>\n",
       "      <th></th>\n",
       "      <th></th>\n",
       "    </tr>\n",
       "  </thead>\n",
       "  <tbody>\n",
       "    <tr>\n",
       "      <th>0</th>\n",
       "      <td>0.133250</td>\n",
       "      <td>0.127464</td>\n",
       "      <td>0.137535</td>\n",
       "      <td>0.152179</td>\n",
       "      <td>0.127146</td>\n",
       "      <td>0.119331</td>\n",
       "      <td>0.108011</td>\n",
       "      <td>0.095082</td>\n",
       "    </tr>\n",
       "    <tr>\n",
       "      <th>1</th>\n",
       "      <td>0.136068</td>\n",
       "      <td>0.108598</td>\n",
       "      <td>0.108323</td>\n",
       "      <td>0.126545</td>\n",
       "      <td>0.131764</td>\n",
       "      <td>0.128102</td>\n",
       "      <td>0.131490</td>\n",
       "      <td>0.129109</td>\n",
       "    </tr>\n",
       "  </tbody>\n",
       "</table>\n",
       "</div>"
      ],
      "text/plain": [
       "month              0         1         2         3         4         5  \\\n",
       "fraud_bool                                                               \n",
       "0           0.133250  0.127464  0.137535  0.152179  0.127146  0.119331   \n",
       "1           0.136068  0.108598  0.108323  0.126545  0.131764  0.128102   \n",
       "\n",
       "month              6         7  \n",
       "fraud_bool                      \n",
       "0           0.108011  0.095082  \n",
       "1           0.131490  0.129109  "
      ]
     },
     "execution_count": 33,
     "metadata": {},
     "output_type": "execute_result"
    }
   ],
   "source": [
    "freq, row_pct, col_pct = cross_tab(raw_data,'fraud_bool','month')\n",
    "col_pct"
   ]
  },
  {
   "cell_type": "code",
   "execution_count": 34,
   "id": "960579f6-fca6-4eab-b683-b09db698f035",
   "metadata": {},
   "outputs": [
    {
     "data": {
      "text/html": [
       "<div>\n",
       "<style scoped>\n",
       "    .dataframe tbody tr th:only-of-type {\n",
       "        vertical-align: middle;\n",
       "    }\n",
       "\n",
       "    .dataframe tbody tr th {\n",
       "        vertical-align: top;\n",
       "    }\n",
       "\n",
       "    .dataframe thead th {\n",
       "        text-align: right;\n",
       "    }\n",
       "</style>\n",
       "<table border=\"1\" class=\"dataframe\">\n",
       "  <thead>\n",
       "    <tr style=\"text-align: right;\">\n",
       "      <th>device_os</th>\n",
       "      <th>linux</th>\n",
       "      <th>macintosh</th>\n",
       "      <th>other</th>\n",
       "      <th>windows</th>\n",
       "      <th>x11</th>\n",
       "    </tr>\n",
       "    <tr>\n",
       "      <th>fraud_bool</th>\n",
       "      <th></th>\n",
       "      <th></th>\n",
       "      <th></th>\n",
       "      <th></th>\n",
       "      <th></th>\n",
       "    </tr>\n",
       "  </thead>\n",
       "  <tbody>\n",
       "    <tr>\n",
       "      <th>0</th>\n",
       "      <td>0.337781</td>\n",
       "      <td>0.052200</td>\n",
       "      <td>0.341984</td>\n",
       "      <td>0.260787</td>\n",
       "      <td>0.007248</td>\n",
       "    </tr>\n",
       "    <tr>\n",
       "      <th>1</th>\n",
       "      <td>0.155755</td>\n",
       "      <td>0.068217</td>\n",
       "      <td>0.177365</td>\n",
       "      <td>0.591338</td>\n",
       "      <td>0.007325</td>\n",
       "    </tr>\n",
       "  </tbody>\n",
       "</table>\n",
       "</div>"
      ],
      "text/plain": [
       "device_os      linux  macintosh     other   windows       x11\n",
       "fraud_bool                                                   \n",
       "0           0.337781   0.052200  0.341984  0.260787  0.007248\n",
       "1           0.155755   0.068217  0.177365  0.591338  0.007325"
      ]
     },
     "execution_count": 34,
     "metadata": {},
     "output_type": "execute_result"
    }
   ],
   "source": [
    "freq, row_pct, col_pct = cross_tab(raw_data,'fraud_bool','device_os')\n",
    "col_pct"
   ]
  },
  {
   "cell_type": "code",
   "execution_count": 35,
   "id": "05e42985-ff49-4df1-98f0-0b8bcad10fab",
   "metadata": {},
   "outputs": [
    {
     "data": {
      "text/html": [
       "<div>\n",
       "<style scoped>\n",
       "    .dataframe tbody tr th:only-of-type {\n",
       "        vertical-align: middle;\n",
       "    }\n",
       "\n",
       "    .dataframe tbody tr th {\n",
       "        vertical-align: top;\n",
       "    }\n",
       "\n",
       "    .dataframe thead th {\n",
       "        text-align: right;\n",
       "    }\n",
       "</style>\n",
       "<table border=\"1\" class=\"dataframe\">\n",
       "  <thead>\n",
       "    <tr style=\"text-align: right;\">\n",
       "      <th>payment_type</th>\n",
       "      <th>AA</th>\n",
       "      <th>AB</th>\n",
       "      <th>AC</th>\n",
       "      <th>AD</th>\n",
       "      <th>AE</th>\n",
       "    </tr>\n",
       "    <tr>\n",
       "      <th>fraud_bool</th>\n",
       "      <th></th>\n",
       "      <th></th>\n",
       "      <th></th>\n",
       "      <th></th>\n",
       "      <th></th>\n",
       "    </tr>\n",
       "  </thead>\n",
       "  <tbody>\n",
       "    <tr>\n",
       "      <th>0</th>\n",
       "      <td>0.260136</td>\n",
       "      <td>0.372337</td>\n",
       "      <td>0.248752</td>\n",
       "      <td>0.118485</td>\n",
       "      <td>0.000290</td>\n",
       "    </tr>\n",
       "    <tr>\n",
       "      <th>1</th>\n",
       "      <td>0.124073</td>\n",
       "      <td>0.378811</td>\n",
       "      <td>0.380643</td>\n",
       "      <td>0.116381</td>\n",
       "      <td>0.000092</td>\n",
       "    </tr>\n",
       "  </tbody>\n",
       "</table>\n",
       "</div>"
      ],
      "text/plain": [
       "payment_type        AA        AB        AC        AD        AE\n",
       "fraud_bool                                                    \n",
       "0             0.260136  0.372337  0.248752  0.118485  0.000290\n",
       "1             0.124073  0.378811  0.380643  0.116381  0.000092"
      ]
     },
     "execution_count": 35,
     "metadata": {},
     "output_type": "execute_result"
    }
   ],
   "source": [
    "freq, row_pct, col_pct = cross_tab(raw_data,'fraud_bool','payment_type')\n",
    "col_pct"
   ]
  },
  {
   "cell_type": "code",
   "execution_count": 36,
   "id": "aaea04df-0371-4abb-ab1c-6aaab3e52ce9",
   "metadata": {},
   "outputs": [
    {
     "data": {
      "text/html": [
       "<div>\n",
       "<style scoped>\n",
       "    .dataframe tbody tr th:only-of-type {\n",
       "        vertical-align: middle;\n",
       "    }\n",
       "\n",
       "    .dataframe tbody tr th {\n",
       "        vertical-align: top;\n",
       "    }\n",
       "\n",
       "    .dataframe thead th {\n",
       "        text-align: right;\n",
       "    }\n",
       "</style>\n",
       "<table border=\"1\" class=\"dataframe\">\n",
       "  <thead>\n",
       "    <tr style=\"text-align: right;\">\n",
       "      <th>housing_status</th>\n",
       "      <th>BA</th>\n",
       "      <th>BB</th>\n",
       "      <th>BC</th>\n",
       "      <th>BD</th>\n",
       "      <th>BE</th>\n",
       "      <th>BF</th>\n",
       "      <th>BG</th>\n",
       "    </tr>\n",
       "    <tr>\n",
       "      <th>fraud_bool</th>\n",
       "      <th></th>\n",
       "      <th></th>\n",
       "      <th></th>\n",
       "      <th></th>\n",
       "      <th></th>\n",
       "      <th></th>\n",
       "      <th></th>\n",
       "    </tr>\n",
       "  </thead>\n",
       "  <tbody>\n",
       "    <tr>\n",
       "      <th>0</th>\n",
       "      <td>0.168285</td>\n",
       "      <td>0.266587</td>\n",
       "      <td>0.375845</td>\n",
       "      <td>0.026468</td>\n",
       "      <td>0.160881</td>\n",
       "      <td>0.001677</td>\n",
       "      <td>0.000258</td>\n",
       "    </tr>\n",
       "    <tr>\n",
       "      <th>1</th>\n",
       "      <td>0.577969</td>\n",
       "      <td>0.143302</td>\n",
       "      <td>0.207215</td>\n",
       "      <td>0.020603</td>\n",
       "      <td>0.050179</td>\n",
       "      <td>0.000641</td>\n",
       "      <td>0.000092</td>\n",
       "    </tr>\n",
       "  </tbody>\n",
       "</table>\n",
       "</div>"
      ],
      "text/plain": [
       "housing_status        BA        BB        BC        BD        BE        BF  \\\n",
       "fraud_bool                                                                   \n",
       "0               0.168285  0.266587  0.375845  0.026468  0.160881  0.001677   \n",
       "1               0.577969  0.143302  0.207215  0.020603  0.050179  0.000641   \n",
       "\n",
       "housing_status        BG  \n",
       "fraud_bool                \n",
       "0               0.000258  \n",
       "1               0.000092  "
      ]
     },
     "execution_count": 36,
     "metadata": {},
     "output_type": "execute_result"
    }
   ],
   "source": [
    "freq, row_pct, col_pct = cross_tab(raw_data,'fraud_bool','housing_status')\n",
    "col_pct"
   ]
  },
  {
   "cell_type": "code",
   "execution_count": 37,
   "id": "b101324b-7994-472b-858b-561e0f5b4a85",
   "metadata": {},
   "outputs": [
    {
     "data": {
      "text/html": [
       "<div>\n",
       "<style scoped>\n",
       "    .dataframe tbody tr th:only-of-type {\n",
       "        vertical-align: middle;\n",
       "    }\n",
       "\n",
       "    .dataframe tbody tr th {\n",
       "        vertical-align: top;\n",
       "    }\n",
       "\n",
       "    .dataframe thead th {\n",
       "        text-align: right;\n",
       "    }\n",
       "</style>\n",
       "<table border=\"1\" class=\"dataframe\">\n",
       "  <thead>\n",
       "    <tr style=\"text-align: right;\">\n",
       "      <th>device_os</th>\n",
       "      <th>linux</th>\n",
       "      <th>macintosh</th>\n",
       "      <th>other</th>\n",
       "      <th>windows</th>\n",
       "      <th>x11</th>\n",
       "    </tr>\n",
       "    <tr>\n",
       "      <th>fraud_bool</th>\n",
       "      <th></th>\n",
       "      <th></th>\n",
       "      <th></th>\n",
       "      <th></th>\n",
       "      <th></th>\n",
       "    </tr>\n",
       "  </thead>\n",
       "  <tbody>\n",
       "    <tr>\n",
       "      <th>0</th>\n",
       "      <td>0.337781</td>\n",
       "      <td>0.052200</td>\n",
       "      <td>0.341984</td>\n",
       "      <td>0.260787</td>\n",
       "      <td>0.007248</td>\n",
       "    </tr>\n",
       "    <tr>\n",
       "      <th>1</th>\n",
       "      <td>0.155755</td>\n",
       "      <td>0.068217</td>\n",
       "      <td>0.177365</td>\n",
       "      <td>0.591338</td>\n",
       "      <td>0.007325</td>\n",
       "    </tr>\n",
       "  </tbody>\n",
       "</table>\n",
       "</div>"
      ],
      "text/plain": [
       "device_os      linux  macintosh     other   windows       x11\n",
       "fraud_bool                                                   \n",
       "0           0.337781   0.052200  0.341984  0.260787  0.007248\n",
       "1           0.155755   0.068217  0.177365  0.591338  0.007325"
      ]
     },
     "execution_count": 37,
     "metadata": {},
     "output_type": "execute_result"
    }
   ],
   "source": [
    "freq, row_pct, col_pct = cross_tab(raw_data,'fraud_bool','device_os')\n",
    "col_pct"
   ]
  },
  {
   "cell_type": "code",
   "execution_count": 38,
   "id": "9523a264-1a18-4d9c-bace-e73b58ae5304",
   "metadata": {},
   "outputs": [
    {
     "data": {
      "text/html": [
       "<div>\n",
       "<style scoped>\n",
       "    .dataframe tbody tr th:only-of-type {\n",
       "        vertical-align: middle;\n",
       "    }\n",
       "\n",
       "    .dataframe tbody tr th {\n",
       "        vertical-align: top;\n",
       "    }\n",
       "\n",
       "    .dataframe thead th {\n",
       "        text-align: right;\n",
       "    }\n",
       "</style>\n",
       "<table border=\"1\" class=\"dataframe\">\n",
       "  <thead>\n",
       "    <tr style=\"text-align: right;\">\n",
       "      <th>source</th>\n",
       "      <th>INTERNET</th>\n",
       "      <th>TELEAPP</th>\n",
       "    </tr>\n",
       "    <tr>\n",
       "      <th>fraud_bool</th>\n",
       "      <th></th>\n",
       "      <th></th>\n",
       "    </tr>\n",
       "  </thead>\n",
       "  <tbody>\n",
       "    <tr>\n",
       "      <th>0</th>\n",
       "      <td>0.994616</td>\n",
       "      <td>0.005384</td>\n",
       "    </tr>\n",
       "    <tr>\n",
       "      <th>1</th>\n",
       "      <td>0.991393</td>\n",
       "      <td>0.008607</td>\n",
       "    </tr>\n",
       "  </tbody>\n",
       "</table>\n",
       "</div>"
      ],
      "text/plain": [
       "source      INTERNET   TELEAPP\n",
       "fraud_bool                    \n",
       "0           0.994616  0.005384\n",
       "1           0.991393  0.008607"
      ]
     },
     "execution_count": 38,
     "metadata": {},
     "output_type": "execute_result"
    }
   ],
   "source": [
    "freq, row_pct, col_pct = cross_tab(raw_data,'fraud_bool','source')\n",
    "col_pct"
   ]
  },
  {
   "cell_type": "code",
   "execution_count": 39,
   "id": "dd0a1b24-009c-444f-945b-511cb7851904",
   "metadata": {},
   "outputs": [
    {
     "data": {
      "text/html": [
       "<div>\n",
       "<style scoped>\n",
       "    .dataframe tbody tr th:only-of-type {\n",
       "        vertical-align: middle;\n",
       "    }\n",
       "\n",
       "    .dataframe tbody tr th {\n",
       "        vertical-align: top;\n",
       "    }\n",
       "\n",
       "    .dataframe thead th {\n",
       "        text-align: right;\n",
       "    }\n",
       "</style>\n",
       "<table border=\"1\" class=\"dataframe\">\n",
       "  <thead>\n",
       "    <tr style=\"text-align: right;\">\n",
       "      <th>housing_status</th>\n",
       "      <th>BA</th>\n",
       "      <th>BB</th>\n",
       "      <th>BC</th>\n",
       "      <th>BD</th>\n",
       "      <th>BE</th>\n",
       "      <th>BF</th>\n",
       "      <th>BG</th>\n",
       "    </tr>\n",
       "    <tr>\n",
       "      <th>fraud_bool</th>\n",
       "      <th></th>\n",
       "      <th></th>\n",
       "      <th></th>\n",
       "      <th></th>\n",
       "      <th></th>\n",
       "      <th></th>\n",
       "      <th></th>\n",
       "    </tr>\n",
       "  </thead>\n",
       "  <tbody>\n",
       "    <tr>\n",
       "      <th>0</th>\n",
       "      <td>0.168285</td>\n",
       "      <td>0.266587</td>\n",
       "      <td>0.375845</td>\n",
       "      <td>0.026468</td>\n",
       "      <td>0.160881</td>\n",
       "      <td>0.001677</td>\n",
       "      <td>0.000258</td>\n",
       "    </tr>\n",
       "    <tr>\n",
       "      <th>1</th>\n",
       "      <td>0.577969</td>\n",
       "      <td>0.143302</td>\n",
       "      <td>0.207215</td>\n",
       "      <td>0.020603</td>\n",
       "      <td>0.050179</td>\n",
       "      <td>0.000641</td>\n",
       "      <td>0.000092</td>\n",
       "    </tr>\n",
       "  </tbody>\n",
       "</table>\n",
       "</div>"
      ],
      "text/plain": [
       "housing_status        BA        BB        BC        BD        BE        BF  \\\n",
       "fraud_bool                                                                   \n",
       "0               0.168285  0.266587  0.375845  0.026468  0.160881  0.001677   \n",
       "1               0.577969  0.143302  0.207215  0.020603  0.050179  0.000641   \n",
       "\n",
       "housing_status        BG  \n",
       "fraud_bool                \n",
       "0               0.000258  \n",
       "1               0.000092  "
      ]
     },
     "execution_count": 39,
     "metadata": {},
     "output_type": "execute_result"
    }
   ],
   "source": [
    "freq, row_pct, col_pct = cross_tab(raw_data,'fraud_bool','housing_status')\n",
    "col_pct"
   ]
  },
  {
   "cell_type": "code",
   "execution_count": 40,
   "id": "c5f1022d-67df-43fe-9e52-c3f24d8d754d",
   "metadata": {},
   "outputs": [
    {
     "data": {
      "text/html": [
       "<div>\n",
       "<style scoped>\n",
       "    .dataframe tbody tr th:only-of-type {\n",
       "        vertical-align: middle;\n",
       "    }\n",
       "\n",
       "    .dataframe tbody tr th {\n",
       "        vertical-align: top;\n",
       "    }\n",
       "\n",
       "    .dataframe thead th {\n",
       "        text-align: right;\n",
       "    }\n",
       "</style>\n",
       "<table border=\"1\" class=\"dataframe\">\n",
       "  <thead>\n",
       "    <tr style=\"text-align: right;\">\n",
       "      <th>payment_type</th>\n",
       "      <th>AA</th>\n",
       "      <th>AB</th>\n",
       "      <th>AC</th>\n",
       "      <th>AD</th>\n",
       "      <th>AE</th>\n",
       "    </tr>\n",
       "    <tr>\n",
       "      <th>fraud_bool</th>\n",
       "      <th></th>\n",
       "      <th></th>\n",
       "      <th></th>\n",
       "      <th></th>\n",
       "      <th></th>\n",
       "    </tr>\n",
       "  </thead>\n",
       "  <tbody>\n",
       "    <tr>\n",
       "      <th>0</th>\n",
       "      <td>0.260136</td>\n",
       "      <td>0.372337</td>\n",
       "      <td>0.248752</td>\n",
       "      <td>0.118485</td>\n",
       "      <td>0.000290</td>\n",
       "    </tr>\n",
       "    <tr>\n",
       "      <th>1</th>\n",
       "      <td>0.124073</td>\n",
       "      <td>0.378811</td>\n",
       "      <td>0.380643</td>\n",
       "      <td>0.116381</td>\n",
       "      <td>0.000092</td>\n",
       "    </tr>\n",
       "  </tbody>\n",
       "</table>\n",
       "</div>"
      ],
      "text/plain": [
       "payment_type        AA        AB        AC        AD        AE\n",
       "fraud_bool                                                    \n",
       "0             0.260136  0.372337  0.248752  0.118485  0.000290\n",
       "1             0.124073  0.378811  0.380643  0.116381  0.000092"
      ]
     },
     "execution_count": 40,
     "metadata": {},
     "output_type": "execute_result"
    }
   ],
   "source": [
    "freq, row_pct, col_pct = cross_tab(raw_data,'fraud_bool','payment_type')\n",
    "col_pct"
   ]
  },
  {
   "cell_type": "code",
   "execution_count": 41,
   "id": "176920a0-4a26-46d1-a22d-57ce9fb8af1a",
   "metadata": {},
   "outputs": [],
   "source": [
    "freq, row_pct, col_pct = cross_tab(raw_data,'fraud_bool','employment_status')"
   ]
  },
  {
   "cell_type": "code",
   "execution_count": 42,
   "id": "e0fe1e12-7c8b-4298-b41c-6371d65e9308",
   "metadata": {},
   "outputs": [
    {
     "data": {
      "text/html": [
       "<div>\n",
       "<style scoped>\n",
       "    .dataframe tbody tr th:only-of-type {\n",
       "        vertical-align: middle;\n",
       "    }\n",
       "\n",
       "    .dataframe tbody tr th {\n",
       "        vertical-align: top;\n",
       "    }\n",
       "\n",
       "    .dataframe thead th {\n",
       "        text-align: right;\n",
       "    }\n",
       "</style>\n",
       "<table border=\"1\" class=\"dataframe\">\n",
       "  <thead>\n",
       "    <tr style=\"text-align: right;\">\n",
       "      <th>employment_status</th>\n",
       "      <th>CA</th>\n",
       "      <th>CB</th>\n",
       "      <th>CC</th>\n",
       "      <th>CD</th>\n",
       "      <th>CE</th>\n",
       "      <th>CF</th>\n",
       "      <th>CG</th>\n",
       "    </tr>\n",
       "    <tr>\n",
       "      <th>fraud_bool</th>\n",
       "      <th></th>\n",
       "      <th></th>\n",
       "      <th></th>\n",
       "      <th></th>\n",
       "      <th></th>\n",
       "      <th></th>\n",
       "      <th></th>\n",
       "    </tr>\n",
       "  </thead>\n",
       "  <tbody>\n",
       "    <tr>\n",
       "      <th>0</th>\n",
       "      <td>0.727028</td>\n",
       "      <td>0.140980</td>\n",
       "      <td>0.037957</td>\n",
       "      <td>0.026927</td>\n",
       "      <td>0.021362</td>\n",
       "      <td>0.045302</td>\n",
       "      <td>0.000445</td>\n",
       "    </tr>\n",
       "    <tr>\n",
       "      <th>1</th>\n",
       "      <td>0.805695</td>\n",
       "      <td>0.086988</td>\n",
       "      <td>0.085065</td>\n",
       "      <td>0.009157</td>\n",
       "      <td>0.004853</td>\n",
       "      <td>0.007692</td>\n",
       "      <td>0.000549</td>\n",
       "    </tr>\n",
       "  </tbody>\n",
       "</table>\n",
       "</div>"
      ],
      "text/plain": [
       "employment_status        CA        CB        CC        CD        CE        CF  \\\n",
       "fraud_bool                                                                      \n",
       "0                  0.727028  0.140980  0.037957  0.026927  0.021362  0.045302   \n",
       "1                  0.805695  0.086988  0.085065  0.009157  0.004853  0.007692   \n",
       "\n",
       "employment_status        CG  \n",
       "fraud_bool                   \n",
       "0                  0.000445  \n",
       "1                  0.000549  "
      ]
     },
     "execution_count": 42,
     "metadata": {},
     "output_type": "execute_result"
    }
   ],
   "source": [
    "col_pct"
   ]
  },
  {
   "cell_type": "code",
   "execution_count": 43,
   "id": "745e9b9b-f09c-4395-9339-7017987c044d",
   "metadata": {},
   "outputs": [
    {
     "data": {
      "text/html": [
       "<div>\n",
       "<style scoped>\n",
       "    .dataframe tbody tr th:only-of-type {\n",
       "        vertical-align: middle;\n",
       "    }\n",
       "\n",
       "    .dataframe tbody tr th {\n",
       "        vertical-align: top;\n",
       "    }\n",
       "\n",
       "    .dataframe thead th {\n",
       "        text-align: right;\n",
       "    }\n",
       "</style>\n",
       "<table border=\"1\" class=\"dataframe\">\n",
       "  <thead>\n",
       "    <tr style=\"text-align: right;\">\n",
       "      <th>phone_home_valid</th>\n",
       "      <th>0</th>\n",
       "      <th>1</th>\n",
       "    </tr>\n",
       "    <tr>\n",
       "      <th>fraud_bool</th>\n",
       "      <th></th>\n",
       "      <th></th>\n",
       "    </tr>\n",
       "  </thead>\n",
       "  <tbody>\n",
       "    <tr>\n",
       "      <th>0</th>\n",
       "      <td>0.578222</td>\n",
       "      <td>0.421778</td>\n",
       "    </tr>\n",
       "    <tr>\n",
       "      <th>1</th>\n",
       "      <td>0.746269</td>\n",
       "      <td>0.253731</td>\n",
       "    </tr>\n",
       "  </tbody>\n",
       "</table>\n",
       "</div>"
      ],
      "text/plain": [
       "phone_home_valid         0         1\n",
       "fraud_bool                          \n",
       "0                 0.578222  0.421778\n",
       "1                 0.746269  0.253731"
      ]
     },
     "execution_count": 43,
     "metadata": {},
     "output_type": "execute_result"
    }
   ],
   "source": [
    "freq, row_pct, col_pct = cross_tab(raw_data,'fraud_bool','phone_home_valid')\n",
    "col_pct"
   ]
  },
  {
   "cell_type": "code",
   "execution_count": 44,
   "id": "6cd52638-523e-476e-9e45-9760d54b0851",
   "metadata": {},
   "outputs": [
    {
     "data": {
      "text/html": [
       "<div>\n",
       "<style scoped>\n",
       "    .dataframe tbody tr th:only-of-type {\n",
       "        vertical-align: middle;\n",
       "    }\n",
       "\n",
       "    .dataframe tbody tr th {\n",
       "        vertical-align: top;\n",
       "    }\n",
       "\n",
       "    .dataframe thead th {\n",
       "        text-align: right;\n",
       "    }\n",
       "</style>\n",
       "<table border=\"1\" class=\"dataframe\">\n",
       "  <thead>\n",
       "    <tr style=\"text-align: right;\">\n",
       "      <th>phone_mobile_valid</th>\n",
       "      <th>0</th>\n",
       "      <th>1</th>\n",
       "    </tr>\n",
       "    <tr>\n",
       "      <th>fraud_bool</th>\n",
       "      <th></th>\n",
       "      <th></th>\n",
       "    </tr>\n",
       "  </thead>\n",
       "  <tbody>\n",
       "    <tr>\n",
       "      <th>0</th>\n",
       "      <td>0.110852</td>\n",
       "      <td>0.889148</td>\n",
       "    </tr>\n",
       "    <tr>\n",
       "      <th>1</th>\n",
       "      <td>0.149986</td>\n",
       "      <td>0.850014</td>\n",
       "    </tr>\n",
       "  </tbody>\n",
       "</table>\n",
       "</div>"
      ],
      "text/plain": [
       "phone_mobile_valid         0         1\n",
       "fraud_bool                            \n",
       "0                   0.110852  0.889148\n",
       "1                   0.149986  0.850014"
      ]
     },
     "execution_count": 44,
     "metadata": {},
     "output_type": "execute_result"
    }
   ],
   "source": [
    "freq, row_pct, col_pct = cross_tab(raw_data,'fraud_bool','phone_mobile_valid')\n",
    "col_pct"
   ]
  },
  {
   "cell_type": "code",
   "execution_count": 45,
   "id": "3191eb09-4d66-4182-b556-5d702bd8a3a0",
   "metadata": {},
   "outputs": [
    {
     "data": {
      "text/html": [
       "<div>\n",
       "<style scoped>\n",
       "    .dataframe tbody tr th:only-of-type {\n",
       "        vertical-align: middle;\n",
       "    }\n",
       "\n",
       "    .dataframe tbody tr th {\n",
       "        vertical-align: top;\n",
       "    }\n",
       "\n",
       "    .dataframe thead th {\n",
       "        text-align: right;\n",
       "    }\n",
       "</style>\n",
       "<table border=\"1\" class=\"dataframe\">\n",
       "  <thead>\n",
       "    <tr style=\"text-align: right;\">\n",
       "      <th>has_other_cards</th>\n",
       "      <th>0</th>\n",
       "      <th>1</th>\n",
       "    </tr>\n",
       "    <tr>\n",
       "      <th>fraud_bool</th>\n",
       "      <th></th>\n",
       "      <th></th>\n",
       "    </tr>\n",
       "  </thead>\n",
       "  <tbody>\n",
       "    <tr>\n",
       "      <th>0</th>\n",
       "      <td>0.771623</td>\n",
       "      <td>0.228377</td>\n",
       "    </tr>\n",
       "    <tr>\n",
       "      <th>1</th>\n",
       "      <td>0.914935</td>\n",
       "      <td>0.085065</td>\n",
       "    </tr>\n",
       "  </tbody>\n",
       "</table>\n",
       "</div>"
      ],
      "text/plain": [
       "has_other_cards         0         1\n",
       "fraud_bool                         \n",
       "0                0.771623  0.228377\n",
       "1                0.914935  0.085065"
      ]
     },
     "execution_count": 45,
     "metadata": {},
     "output_type": "execute_result"
    }
   ],
   "source": [
    "freq, row_pct, col_pct = cross_tab(raw_data,'fraud_bool','has_other_cards')\n",
    "col_pct"
   ]
  },
  {
   "cell_type": "code",
   "execution_count": 46,
   "id": "7b9f72a0-a8fe-49c7-a881-38dcb4a75a9f",
   "metadata": {},
   "outputs": [
    {
     "data": {
      "text/html": [
       "<div>\n",
       "<style scoped>\n",
       "    .dataframe tbody tr th:only-of-type {\n",
       "        vertical-align: middle;\n",
       "    }\n",
       "\n",
       "    .dataframe tbody tr th {\n",
       "        vertical-align: top;\n",
       "    }\n",
       "\n",
       "    .dataframe thead th {\n",
       "        text-align: right;\n",
       "    }\n",
       "</style>\n",
       "<table border=\"1\" class=\"dataframe\">\n",
       "  <thead>\n",
       "    <tr style=\"text-align: right;\">\n",
       "      <th>foreign_request</th>\n",
       "      <th>0</th>\n",
       "      <th>1</th>\n",
       "    </tr>\n",
       "    <tr>\n",
       "      <th>fraud_bool</th>\n",
       "      <th></th>\n",
       "      <th></th>\n",
       "    </tr>\n",
       "  </thead>\n",
       "  <tbody>\n",
       "    <tr>\n",
       "      <th>0</th>\n",
       "      <td>0.974795</td>\n",
       "      <td>0.025205</td>\n",
       "    </tr>\n",
       "    <tr>\n",
       "      <th>1</th>\n",
       "      <td>0.949455</td>\n",
       "      <td>0.050545</td>\n",
       "    </tr>\n",
       "  </tbody>\n",
       "</table>\n",
       "</div>"
      ],
      "text/plain": [
       "foreign_request         0         1\n",
       "fraud_bool                         \n",
       "0                0.974795  0.025205\n",
       "1                0.949455  0.050545"
      ]
     },
     "execution_count": 46,
     "metadata": {},
     "output_type": "execute_result"
    }
   ],
   "source": [
    "freq, row_pct, col_pct = cross_tab(raw_data,'fraud_bool','foreign_request')\n",
    "col_pct"
   ]
  },
  {
   "cell_type": "code",
   "execution_count": 47,
   "id": "ab27d53f-23af-48ee-a2b7-b62e2b709ba1",
   "metadata": {},
   "outputs": [
    {
     "data": {
      "text/html": [
       "<div>\n",
       "<style scoped>\n",
       "    .dataframe tbody tr th:only-of-type {\n",
       "        vertical-align: middle;\n",
       "    }\n",
       "\n",
       "    .dataframe tbody tr th {\n",
       "        vertical-align: top;\n",
       "    }\n",
       "\n",
       "    .dataframe thead th {\n",
       "        text-align: right;\n",
       "    }\n",
       "</style>\n",
       "<table border=\"1\" class=\"dataframe\">\n",
       "  <thead>\n",
       "    <tr style=\"text-align: right;\">\n",
       "      <th>source</th>\n",
       "      <th>INTERNET</th>\n",
       "      <th>TELEAPP</th>\n",
       "    </tr>\n",
       "    <tr>\n",
       "      <th>fraud_bool</th>\n",
       "      <th></th>\n",
       "      <th></th>\n",
       "    </tr>\n",
       "  </thead>\n",
       "  <tbody>\n",
       "    <tr>\n",
       "      <th>0</th>\n",
       "      <td>0.994616</td>\n",
       "      <td>0.005384</td>\n",
       "    </tr>\n",
       "    <tr>\n",
       "      <th>1</th>\n",
       "      <td>0.991393</td>\n",
       "      <td>0.008607</td>\n",
       "    </tr>\n",
       "  </tbody>\n",
       "</table>\n",
       "</div>"
      ],
      "text/plain": [
       "source      INTERNET   TELEAPP\n",
       "fraud_bool                    \n",
       "0           0.994616  0.005384\n",
       "1           0.991393  0.008607"
      ]
     },
     "execution_count": 47,
     "metadata": {},
     "output_type": "execute_result"
    }
   ],
   "source": [
    "freq, row_pct, col_pct = cross_tab(raw_data,'fraud_bool','source')\n",
    "col_pct"
   ]
  },
  {
   "cell_type": "code",
   "execution_count": 48,
   "id": "852631c1-8be6-4d85-ace2-b4f95f25da6c",
   "metadata": {},
   "outputs": [
    {
     "data": {
      "text/html": [
       "<div>\n",
       "<style scoped>\n",
       "    .dataframe tbody tr th:only-of-type {\n",
       "        vertical-align: middle;\n",
       "    }\n",
       "\n",
       "    .dataframe tbody tr th {\n",
       "        vertical-align: top;\n",
       "    }\n",
       "\n",
       "    .dataframe thead th {\n",
       "        text-align: right;\n",
       "    }\n",
       "</style>\n",
       "<table border=\"1\" class=\"dataframe\">\n",
       "  <thead>\n",
       "    <tr style=\"text-align: right;\">\n",
       "      <th>keep_alive_session</th>\n",
       "      <th>0</th>\n",
       "      <th>1</th>\n",
       "    </tr>\n",
       "    <tr>\n",
       "      <th>fraud_bool</th>\n",
       "      <th></th>\n",
       "      <th></th>\n",
       "    </tr>\n",
       "  </thead>\n",
       "  <tbody>\n",
       "    <tr>\n",
       "      <th>0</th>\n",
       "      <td>0.417714</td>\n",
       "      <td>0.582286</td>\n",
       "    </tr>\n",
       "    <tr>\n",
       "      <th>1</th>\n",
       "      <td>0.657449</td>\n",
       "      <td>0.342551</td>\n",
       "    </tr>\n",
       "  </tbody>\n",
       "</table>\n",
       "</div>"
      ],
      "text/plain": [
       "keep_alive_session         0         1\n",
       "fraud_bool                            \n",
       "0                   0.417714  0.582286\n",
       "1                   0.657449  0.342551"
      ]
     },
     "execution_count": 48,
     "metadata": {},
     "output_type": "execute_result"
    }
   ],
   "source": [
    "freq, row_pct, col_pct = cross_tab(raw_data,'fraud_bool','keep_alive_session')\n",
    "col_pct"
   ]
  },
  {
   "cell_type": "code",
   "execution_count": 49,
   "id": "47ff946e-434a-43a9-84c8-afce625e4fa2",
   "metadata": {},
   "outputs": [],
   "source": [
    "ttest = grp_ttest(qcut_vars,raw_data.loc[raw_data['fraud_bool']==0], raw_data.loc[raw_data['fraud_bool']==1])"
   ]
  },
  {
   "cell_type": "code",
   "execution_count": 50,
   "id": "06cc4c09-6dd0-4df9-ace3-3e08ecd1291c",
   "metadata": {},
   "outputs": [
    {
     "data": {
      "text/html": [
       "<div>\n",
       "<style scoped>\n",
       "    .dataframe tbody tr th:only-of-type {\n",
       "        vertical-align: middle;\n",
       "    }\n",
       "\n",
       "    .dataframe tbody tr th {\n",
       "        vertical-align: top;\n",
       "    }\n",
       "\n",
       "    .dataframe thead th {\n",
       "        text-align: right;\n",
       "    }\n",
       "</style>\n",
       "<table border=\"1\" class=\"dataframe\">\n",
       "  <thead>\n",
       "    <tr style=\"text-align: right;\">\n",
       "      <th></th>\n",
       "      <th>income</th>\n",
       "      <th>name_email_similarity</th>\n",
       "      <th>current_address_months_count</th>\n",
       "      <th>customer_age</th>\n",
       "      <th>velocity_6h</th>\n",
       "      <th>velocity_24h</th>\n",
       "      <th>velocity_4w</th>\n",
       "      <th>bank_branch_count_8w</th>\n",
       "      <th>date_of_birth_distinct_emails_4w</th>\n",
       "      <th>credit_risk_score</th>\n",
       "      <th>proposed_credit_limit</th>\n",
       "      <th>session_length_in_minutes</th>\n",
       "    </tr>\n",
       "  </thead>\n",
       "  <tbody>\n",
       "    <tr>\n",
       "      <th>T-statistic</th>\n",
       "      <td>-44.303854</td>\n",
       "      <td>36.02909</td>\n",
       "      <td>-34.030301</td>\n",
       "      <td>-62.087321</td>\n",
       "      <td>16.878267</td>\n",
       "      <td>11.123916</td>\n",
       "      <td>11.734926</td>\n",
       "      <td>11.521271</td>\n",
       "      <td>43.373489</td>\n",
       "      <td>-69.98756</td>\n",
       "      <td>-68.32531</td>\n",
       "      <td>-9.000193</td>\n",
       "    </tr>\n",
       "    <tr>\n",
       "      <th>P-value</th>\n",
       "      <td>0.0</td>\n",
       "      <td>0.0</td>\n",
       "      <td>0.0</td>\n",
       "      <td>0.0</td>\n",
       "      <td>0.0</td>\n",
       "      <td>0.0</td>\n",
       "      <td>0.0</td>\n",
       "      <td>0.0</td>\n",
       "      <td>0.0</td>\n",
       "      <td>0.0</td>\n",
       "      <td>0.0</td>\n",
       "      <td>0.0</td>\n",
       "    </tr>\n",
       "  </tbody>\n",
       "</table>\n",
       "</div>"
      ],
      "text/plain": [
       "                income name_email_similarity current_address_months_count  \\\n",
       "T-statistic -44.303854              36.02909                   -34.030301   \n",
       "P-value            0.0                   0.0                          0.0   \n",
       "\n",
       "            customer_age velocity_6h velocity_24h velocity_4w  \\\n",
       "T-statistic   -62.087321   16.878267    11.123916   11.734926   \n",
       "P-value              0.0         0.0          0.0         0.0   \n",
       "\n",
       "            bank_branch_count_8w date_of_birth_distinct_emails_4w  \\\n",
       "T-statistic            11.521271                        43.373489   \n",
       "P-value                      0.0                              0.0   \n",
       "\n",
       "            credit_risk_score proposed_credit_limit session_length_in_minutes  \n",
       "T-statistic         -69.98756             -68.32531                 -9.000193  \n",
       "P-value                   0.0                   0.0                       0.0  "
      ]
     },
     "execution_count": 50,
     "metadata": {},
     "output_type": "execute_result"
    }
   ],
   "source": [
    "ttest"
   ]
  },
  {
   "cell_type": "code",
   "execution_count": 51,
   "id": "92eb6f46-35d3-4f0e-8e1b-447e16714763",
   "metadata": {},
   "outputs": [],
   "source": [
    "selector = sk_feature_selection()"
   ]
  },
  {
   "cell_type": "code",
   "execution_count": 52,
   "id": "f500a4e5-d7c6-4ee4-969c-edf9f4edf97f",
   "metadata": {},
   "outputs": [],
   "source": [
    "cont_vars = ['income','name_email_similarity', 'current_address_months_count', 'customer_age', \\\n",
    "             'zip_count_4w', 'velocity_6h', 'velocity_24h', 'velocity_4w', 'bank_branch_count_8w', \\\n",
    "            'date_of_birth_distinct_emails_4w', 'credit_risk_score','proposed_credit_limit', \\\n",
    "            'session_length_in_minutes','month']"
   ]
  },
  {
   "cell_type": "code",
   "execution_count": 53,
   "id": "0174f3c1-0447-4558-8b6b-dc9203c31e3f",
   "metadata": {},
   "outputs": [],
   "source": [
    "disc_vars = ['email_is_free','phone_home_valid','phone_mobile_valid','has_other_cards','foreign_request','keep_alive_session','device_distinct_emails_8w']"
   ]
  },
  {
   "cell_type": "code",
   "execution_count": 54,
   "id": "0a4251e8-b0c5-4a4b-905b-84935e430620",
   "metadata": {},
   "outputs": [],
   "source": [
    "mi = selector.f_normalized_mi_matrix(raw_data, ['fraud_bool']+cont_vars+disc_vars)"
   ]
  },
  {
   "cell_type": "code",
   "execution_count": 55,
   "id": "55b70e80-7920-49be-b2b7-65401156887d",
   "metadata": {},
   "outputs": [],
   "source": [
    "mi.to_excel('nmi_matrix.xlsx')"
   ]
  },
  {
   "cell_type": "code",
   "execution_count": 56,
   "id": "599d0772-4fee-43f5-a79e-fdfaa0ee3ee1",
   "metadata": {
    "scrolled": true
   },
   "outputs": [],
   "source": [
    "coef = selector.f_feature_select(raw_data, cont_vars + disc_vars, 'fraud_bool', mtype='classification', chart='off')"
   ]
  },
  {
   "cell_type": "code",
   "execution_count": 57,
   "id": "c0057d54-92c1-4b2b-bd35-d7ec5afa32af",
   "metadata": {},
   "outputs": [],
   "source": [
    "coef.to_excel('feature_importance.xlsx')"
   ]
  },
  {
   "cell_type": "code",
   "execution_count": 58,
   "id": "be1be6e1-6de8-416e-b479-d81d99a40740",
   "metadata": {},
   "outputs": [
    {
     "data": {
      "text/plain": [
       "fraud_bool\n",
       "0    961650\n",
       "1     10921\n",
       "Name: count, dtype: int64"
      ]
     },
     "execution_count": 58,
     "metadata": {},
     "output_type": "execute_result"
    }
   ],
   "source": [
    "raw_data['fraud_bool'].value_counts()"
   ]
  },
  {
   "cell_type": "code",
   "execution_count": 59,
   "id": "1eed8a8f-1c1d-44b5-b4ee-f600e771d7c6",
   "metadata": {},
   "outputs": [],
   "source": [
    "raw_data_dummy = f_get_dummies(raw_data, varlist=['payment_type','employment_status','housing_status','source','device_os','month'], drop_first=False)"
   ]
  },
  {
   "cell_type": "code",
   "execution_count": 60,
   "id": "94b537b4-4cf7-411b-9b51-f6c4917df2f1",
   "metadata": {},
   "outputs": [],
   "source": [
    "dummy_features = [x for x in raw_data_dummy.columns if x not in raw_data.columns]"
   ]
  },
  {
   "cell_type": "code",
   "execution_count": 61,
   "id": "b8998187-a6e8-4e36-ae29-ec3c3c0bd5ce",
   "metadata": {},
   "outputs": [
    {
     "data": {
      "text/plain": [
       "['payment_type:AA',\n",
       " 'payment_type:AB',\n",
       " 'payment_type:AC',\n",
       " 'payment_type:AD',\n",
       " 'payment_type:AE',\n",
       " 'payment_type:nan',\n",
       " 'employment_status:CA',\n",
       " 'employment_status:CB',\n",
       " 'employment_status:CC',\n",
       " 'employment_status:CD',\n",
       " 'employment_status:CE',\n",
       " 'employment_status:CF',\n",
       " 'employment_status:CG',\n",
       " 'employment_status:nan',\n",
       " 'housing_status:BA',\n",
       " 'housing_status:BB',\n",
       " 'housing_status:BC',\n",
       " 'housing_status:BD',\n",
       " 'housing_status:BE',\n",
       " 'housing_status:BF',\n",
       " 'housing_status:BG',\n",
       " 'housing_status:nan',\n",
       " 'source:INTERNET',\n",
       " 'source:TELEAPP',\n",
       " 'source:nan',\n",
       " 'device_os:linux',\n",
       " 'device_os:macintosh',\n",
       " 'device_os:other',\n",
       " 'device_os:windows',\n",
       " 'device_os:x11',\n",
       " 'device_os:nan',\n",
       " 'month:0.0',\n",
       " 'month:1.0',\n",
       " 'month:2.0',\n",
       " 'month:3.0',\n",
       " 'month:4.0',\n",
       " 'month:5.0',\n",
       " 'month:6.0',\n",
       " 'month:7.0',\n",
       " 'month:nan']"
      ]
     },
     "execution_count": 61,
     "metadata": {},
     "output_type": "execute_result"
    }
   ],
   "source": [
    "dummy_features"
   ]
  },
  {
   "cell_type": "code",
   "execution_count": 62,
   "id": "4fd0bb9e-cadb-4308-9710-cbb0a07f90f7",
   "metadata": {},
   "outputs": [],
   "source": [
    "coef = selector.f_feature_select(raw_data_dummy, dummy_features, 'fraud_bool', mtype='classification', chart='off')"
   ]
  },
  {
   "cell_type": "code",
   "execution_count": 63,
   "id": "b2f70573-61dd-472c-8738-1ac6b876c4c5",
   "metadata": {},
   "outputs": [],
   "source": [
    "coef.to_excel('dummy_feature_importance.xlsx')"
   ]
  },
  {
   "cell_type": "code",
   "execution_count": null,
   "id": "a7b27b77-d650-4daf-a02c-b09675112bcc",
   "metadata": {},
   "outputs": [],
   "source": []
  },
  {
   "cell_type": "code",
   "execution_count": null,
   "id": "7c631762-6a3f-4fcb-9db8-2a4e2a23a47b",
   "metadata": {},
   "outputs": [],
   "source": []
  },
  {
   "cell_type": "code",
   "execution_count": null,
   "id": "16e7f30a-ee26-48df-910a-6b9549992afb",
   "metadata": {},
   "outputs": [],
   "source": []
  }
 ],
 "metadata": {
  "kernelspec": {
   "display_name": "Python [conda env:base] *",
   "language": "python",
   "name": "conda-base-py"
  },
  "language_info": {
   "codemirror_mode": {
    "name": "ipython",
    "version": 3
   },
   "file_extension": ".py",
   "mimetype": "text/x-python",
   "name": "python",
   "nbconvert_exporter": "python",
   "pygments_lexer": "ipython3",
   "version": "3.11.7"
  }
 },
 "nbformat": 4,
 "nbformat_minor": 5
}
