{
 "cells": [
  {
   "cell_type": "code",
   "execution_count": 2,
   "id": "722319f8-9446-4b90-adbb-14ab080b55db",
   "metadata": {},
   "outputs": [],
   "source": [
    "import pandas as pd\n",
    "import numpy as np\n",
    "import sys\n",
    "sys.path.append('../utilities')\n",
    "from basic_utilities import *\n",
    "from model_utilities import *\n",
    "from pandas.plotting import scatter_matrix\n",
    "from ml_utilities import sk_feature_selection\n",
    "import scipy.stats as stats\n",
    "import pdb\n",
    "import os\n",
    "import warnings\n",
    "warnings.filterwarnings(\"ignore\")\n",
    "import gower\n",
    "from sklearn.cluster import KMeans, MiniBatchKMeans\n",
    "from sklearn.metrics import silhouette_score"
   ]
  },
  {
   "cell_type": "code",
   "execution_count": 4,
   "id": "c932ff92-a31f-4a2f-ae4b-4b38d3af3fe7",
   "metadata": {},
   "outputs": [],
   "source": [
    "raw_data = pd.read_csv('../../../data/Base.csv')"
   ]
  },
  {
   "cell_type": "code",
   "execution_count": 5,
   "id": "8e1be8bc-62d9-4260-aef0-caf15f0d4384",
   "metadata": {},
   "outputs": [
    {
     "data": {
      "text/plain": [
       "Index(['fraud_bool', 'income', 'name_email_similarity',\n",
       "       'prev_address_months_count', 'current_address_months_count',\n",
       "       'customer_age', 'days_since_request', 'intended_balcon_amount',\n",
       "       'payment_type', 'zip_count_4w', 'velocity_6h', 'velocity_24h',\n",
       "       'velocity_4w', 'bank_branch_count_8w',\n",
       "       'date_of_birth_distinct_emails_4w', 'employment_status',\n",
       "       'credit_risk_score', 'email_is_free', 'housing_status',\n",
       "       'phone_home_valid', 'phone_mobile_valid', 'bank_months_count',\n",
       "       'has_other_cards', 'proposed_credit_limit', 'foreign_request', 'source',\n",
       "       'session_length_in_minutes', 'device_os', 'keep_alive_session',\n",
       "       'device_distinct_emails_8w', 'device_fraud_count', 'month'],\n",
       "      dtype='object')"
      ]
     },
     "execution_count": 5,
     "metadata": {},
     "output_type": "execute_result"
    }
   ],
   "source": [
    "raw_data.columns"
   ]
  },
  {
   "cell_type": "code",
   "execution_count": 6,
   "id": "2a9ba135-7cc9-4866-b126-a52264f96cba",
   "metadata": {},
   "outputs": [],
   "source": [
    "drivers = ['credit_risk_score','name_email_similarity', 'email_is_free', 'phone_mobile_valid', 'foreign_request','keep_alive_session','has_other_cards']"
   ]
  },
  {
   "cell_type": "code",
   "execution_count": 7,
   "id": "c55d5e9b-8a6a-46a0-b77d-1d7a79f807df",
   "metadata": {},
   "outputs": [],
   "source": [
    "sample = raw_data.sample(frac=0.1, random_state = 1234)"
   ]
  },
  {
   "cell_type": "code",
   "execution_count": 8,
   "id": "d1e43998-7c1b-45a9-ab61-d18617a320a9",
   "metadata": {},
   "outputs": [],
   "source": [
    "gower_mat = gower.gower_matrix(sample[drivers], cat_features=[False, False, True, True, True, True, True])\n",
    "\n"
   ]
  },
  {
   "cell_type": "code",
   "execution_count": 15,
   "id": "684f98b2-ce39-46ff-8a17-c806ab71a1a0",
   "metadata": {},
   "outputs": [],
   "source": [
    "kmeans = MiniBatchKMeans(n_clusters=3, random_state=0).fit(gower_mat)"
   ]
  },
  {
   "cell_type": "code",
   "execution_count": 26,
   "id": "1b3c3d96-9f88-41d3-b3d3-5336166c0a0d",
   "metadata": {},
   "outputs": [
    {
     "data": {
      "text/plain": [
       "0.35415035"
      ]
     },
     "execution_count": 26,
     "metadata": {},
     "output_type": "execute_result"
    }
   ],
   "source": [
    "silhouette_score(\n",
    "            gower_mat,\n",
    "            kmeans.labels_,\n",
    "            metric=\"precomputed\",\n",
    "            random_state = 123\n",
    "        )"
   ]
  },
  {
   "cell_type": "code",
   "execution_count": 27,
   "id": "aa823d0a-3c68-4529-8f96-a065a10c1db6",
   "metadata": {},
   "outputs": [],
   "source": [
    "sample['kmean_label'] = kmeans.labels_"
   ]
  },
  {
   "cell_type": "code",
   "execution_count": 28,
   "id": "a1f63699-b5ac-4b20-af74-04a59c68e2c5",
   "metadata": {},
   "outputs": [],
   "source": [
    "sample.to_csv('sample_after_kmeans.csv', index=False)"
   ]
  },
  {
   "cell_type": "code",
   "execution_count": null,
   "id": "4933b8ad-cffb-412b-8d26-b47dc9b2f7bb",
   "metadata": {},
   "outputs": [],
   "source": []
  },
  {
   "cell_type": "code",
   "execution_count": null,
   "id": "6942a40f-7fe5-47ae-92fd-7dd733bc3d56",
   "metadata": {},
   "outputs": [],
   "source": []
  },
  {
   "cell_type": "code",
   "execution_count": null,
   "id": "1bcda9db-260e-4d9d-8d74-e448a3b5fa15",
   "metadata": {},
   "outputs": [],
   "source": []
  },
  {
   "cell_type": "code",
   "execution_count": null,
   "id": "604f938a-2d63-4d4f-8231-854d5e623da9",
   "metadata": {},
   "outputs": [],
   "source": []
  },
  {
   "cell_type": "code",
   "execution_count": null,
   "id": "d80c322c-4981-4d96-ae14-4540c1ff43b3",
   "metadata": {},
   "outputs": [],
   "source": []
  },
  {
   "cell_type": "code",
   "execution_count": null,
   "id": "497bf291-ebef-4146-bb2e-165bc76cdb93",
   "metadata": {},
   "outputs": [],
   "source": []
  }
 ],
 "metadata": {
  "kernelspec": {
   "display_name": "Python [conda env:base] *",
   "language": "python",
   "name": "conda-base-py"
  },
  "language_info": {
   "codemirror_mode": {
    "name": "ipython",
    "version": 3
   },
   "file_extension": ".py",
   "mimetype": "text/x-python",
   "name": "python",
   "nbconvert_exporter": "python",
   "pygments_lexer": "ipython3",
   "version": "3.11.7"
  }
 },
 "nbformat": 4,
 "nbformat_minor": 5
}
