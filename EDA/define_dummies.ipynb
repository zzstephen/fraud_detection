{
 "cells": [
  {
   "cell_type": "code",
   "execution_count": 2,
   "id": "1f958f18-beec-4ba8-9e11-5e3748f29ebe",
   "metadata": {},
   "outputs": [],
   "source": [
    "import pandas as pd\n",
    "import numpy as np\n",
    "import sys\n",
    "sys.path.append('../utilities')\n",
    "from basic_utilities import *\n",
    "from model_utilities import *\n",
    "from pandas.plotting import scatter_matrix\n",
    "from ml_utilities import sk_feature_selection\n",
    "from sklearn.cluster import KMeans\n",
    "import scipy.stats as stats\n",
    "import pdb\n",
    "import os\n",
    "import warnings\n",
    "warnings.filterwarnings(\"ignore\")"
   ]
  },
  {
   "cell_type": "code",
   "execution_count": 3,
   "id": "fa6d72a7-4bd3-4ce3-a7c2-1a81c43cb581",
   "metadata": {},
   "outputs": [],
   "source": [
    "sampled_data = pd.read_csv('../../../data/intermediate/training.csv')"
   ]
  },
  {
   "cell_type": "code",
   "execution_count": 4,
   "id": "6298cb1e-ee33-469d-88f2-3ffa093c6de0",
   "metadata": {},
   "outputs": [],
   "source": [
    "yaml_out_fd = '../Data_prep'"
   ]
  },
  {
   "cell_type": "code",
   "execution_count": 5,
   "id": "67cf95a0-9069-4f8c-90fc-104f381429ba",
   "metadata": {},
   "outputs": [],
   "source": [
    "varlist = ['payment_type','employment_status','housing_status','device_os','month']"
   ]
  },
  {
   "cell_type": "code",
   "execution_count": 6,
   "id": "b8d02877-0472-45da-a6c2-08c989fb4288",
   "metadata": {},
   "outputs": [],
   "source": [
    "def cluster_dummy(df, coef_col, varlist, theshold):\n",
    "    \n",
    "    newdf = pd.DataFrame(columns = df.columns)\n",
    "\n",
    "    cluster = {}\n",
    "\n",
    "    cluster['get_dummies'] = varlist\n",
    "    \n",
    "    for var in varlist:\n",
    "        df_filtered = df[df['feature'].str.contains(var)]\n",
    "        inertia = []\n",
    "        models = []\n",
    "        max_cluster = df_filtered.shape[0]\n",
    "        \n",
    "        if max_cluster == 1:\n",
    "            df_filtered['group'] = [0]\n",
    "            break\n",
    "        \n",
    "        for i in range(2,max_cluster):\n",
    "            kmeans = KMeans(init=\"k-means++\",n_clusters=i, random_state=0).fit(df_filtered[[coef_col]])\n",
    "            inertia.append(kmeans.inertia_)\n",
    "            models.append(kmeans)\n",
    "            if (kmeans.inertia_ < inertia[-1]) and (inertia[-1] - kmeans.inertia_)/kmeans.inertia_ < threshold: \n",
    "                break\n",
    "\n",
    "        df_filtered['group'] = models[-1].labels_\n",
    "\n",
    "        cluster[var] = []\n",
    "        \n",
    "        for c in range(len(df_filtered['group'].unique())):\n",
    "        \n",
    "            cluster[var].append(f'{c},'+ ','.join(df_filtered[df_filtered['group']==c].feature.tolist()))\n",
    "\n",
    "    return cluster\n",
    "    "
   ]
  },
  {
   "cell_type": "code",
   "execution_count": 7,
   "id": "c27a1459-dd01-4780-9d53-1159f48ba315",
   "metadata": {},
   "outputs": [],
   "source": [
    "def batch_process_by_segment(seg, varlist):\n",
    "    segment_data = sampled_data.loc[sampled_data['segment']==seg]\n",
    "    segment_data_dummy = f_get_dummies(segment_data, varlist=varlist, drop_first=True)\n",
    "    selector = sk_feature_selection()\n",
    "    dummy_features = [f for f in segment_data_dummy.columns if (f not in segment_data.columns) and ('nan' not in f)]    \n",
    "    coef = selector.f_feature_select(segment_data_dummy, dummy_features, 'fraud_bool', mtype='classification', chart='off')\n",
    "    return segment_data_dummy, coef"
   ]
  },
  {
   "cell_type": "code",
   "execution_count": 8,
   "id": "d21a59b4-d047-418c-a23b-ae45809ce246",
   "metadata": {},
   "outputs": [],
   "source": [
    "segment_data_0, coef0 = batch_process_by_segment(0, varlist)\n",
    "coef0_clustered = cluster_dummy(coef0, 'linear_SVC', varlist, 0.1)\n",
    "with open(f'{yaml_out_fd}/dummy_grouping_segment0_draft.yaml', 'w') as outfile:\n",
    "    yaml.dump(coef0_clustered, outfile,sort_keys=False)"
   ]
  },
  {
   "cell_type": "code",
   "execution_count": 9,
   "id": "ae0b26dd-082b-4921-93a7-ea61d179e44a",
   "metadata": {},
   "outputs": [],
   "source": [
    "segment_data_1, coef1 = batch_process_by_segment(1, varlist)\n",
    "coef1_clustered = cluster_dummy(coef1, 'linear_SVC', varlist, 0.1)\n",
    "with open(f'{yaml_out_fd}/dummy_grouping_segment1_draft.yaml', 'w') as outfile:\n",
    "    yaml.dump(coef1_clustered, outfile,sort_keys=False)"
   ]
  },
  {
   "cell_type": "code",
   "execution_count": 10,
   "id": "bc1af6f5-d0fb-4ee6-80d7-e74fe6408730",
   "metadata": {},
   "outputs": [],
   "source": [
    "segment_data_2, coef2 = batch_process_by_segment(2, varlist)\n",
    "coef2_clustered = cluster_dummy(coef2, 'linear_SVC', varlist, 0.1)\n",
    "with open(f'{yaml_out_fd}/dummy_grouping_segment2_draft.yaml', 'w') as outfile:\n",
    "    yaml.dump(coef2_clustered, outfile,sort_keys=False)"
   ]
  },
  {
   "cell_type": "code",
   "execution_count": null,
   "id": "d744c321-5906-49a9-896a-959d7c383989",
   "metadata": {},
   "outputs": [],
   "source": []
  },
  {
   "cell_type": "code",
   "execution_count": null,
   "id": "7e02eda8-d769-41d2-8f89-98bbdbc1ee11",
   "metadata": {},
   "outputs": [],
   "source": []
  }
 ],
 "metadata": {
  "kernelspec": {
   "display_name": "Python [conda env:base] *",
   "language": "python",
   "name": "conda-base-py"
  },
  "language_info": {
   "codemirror_mode": {
    "name": "ipython",
    "version": 3
   },
   "file_extension": ".py",
   "mimetype": "text/x-python",
   "name": "python",
   "nbconvert_exporter": "python",
   "pygments_lexer": "ipython3",
   "version": "3.11.7"
  }
 },
 "nbformat": 4,
 "nbformat_minor": 5
}
