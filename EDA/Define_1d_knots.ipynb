{
 "cells": [
  {
   "cell_type": "code",
   "execution_count": 1,
   "id": "1f958f18-beec-4ba8-9e11-5e3748f29ebe",
   "metadata": {},
   "outputs": [],
   "source": [
    "import pandas as pd\n",
    "import numpy as np\n",
    "import sys\n",
    "sys.path.append('../utilities')\n",
    "from basic_utilities import *\n",
    "from model_utilities import *\n",
    "from pandas.plotting import scatter_matrix\n",
    "from ml_utilities import sk_feature_selection\n",
    "import scipy.stats as stats\n",
    "import pdb\n",
    "import os\n",
    "import warnings\n",
    "warnings.filterwarnings(\"ignore\")"
   ]
  },
  {
   "cell_type": "code",
   "execution_count": 2,
   "id": "fa6d72a7-4bd3-4ce3-a7c2-1a81c43cb581",
   "metadata": {},
   "outputs": [],
   "source": [
    "sampled_data = pd.read_csv('../../../data/intermediate/train_test_sample.csv')"
   ]
  },
  {
   "cell_type": "code",
   "execution_count": 3,
   "id": "7f7b8b76-47a8-4a3f-bd5f-fec42f549cb5",
   "metadata": {},
   "outputs": [
    {
     "data": {
      "text/plain": [
       "(86835, 34)"
      ]
     },
     "execution_count": 3,
     "metadata": {},
     "output_type": "execute_result"
    }
   ],
   "source": [
    "sampled_data.shape"
   ]
  },
  {
   "cell_type": "code",
   "execution_count": 4,
   "id": "f83a3922-57e7-415c-b0b4-4bf4d5eb7157",
   "metadata": {},
   "outputs": [
    {
     "data": {
      "text/plain": [
       "sample_weight\n",
       "10.0    78684\n",
       "1.0      8151\n",
       "Name: count, dtype: int64"
      ]
     },
     "execution_count": 4,
     "metadata": {},
     "output_type": "execute_result"
    }
   ],
   "source": [
    "sampled_data.sample_weight.value_counts()"
   ]
  },
  {
   "cell_type": "code",
   "execution_count": 5,
   "id": "2f97e769-ddaa-473d-b6bc-7221be642fd5",
   "metadata": {},
   "outputs": [],
   "source": [
    "sampled_data_0 = sampled_data.loc[sampled_data['segment']==0]\n",
    "sampled_data_1 = sampled_data.loc[sampled_data['segment']==1]\n",
    "sampled_data_2 = sampled_data.loc[sampled_data['segment']==2]"
   ]
  },
  {
   "cell_type": "code",
   "execution_count": 6,
   "id": "e9dca741-3549-40ae-8c53-94e7de56b510",
   "metadata": {},
   "outputs": [],
   "source": [
    "qcut_vars = ['income',\n",
    " 'name_email_similarity',\n",
    " 'prev_address_months_count',\n",
    " 'current_address_months_count',\n",
    " 'customer_age',\n",
    " 'days_since_request',\n",
    " 'intended_balcon_amount',\n",
    " 'zip_count_4w',\n",
    " 'velocity_6h',\n",
    " 'velocity_24h',\n",
    " 'velocity_4w',\n",
    " 'bank_branch_count_8w',\n",
    " 'date_of_birth_distinct_emails_4w',\n",
    " 'credit_risk_score',\n",
    " 'bank_months_count',\n",
    " 'proposed_credit_limit',\n",
    " 'session_length_in_minutes',\n",
    " 'device_distinct_emails_8w',\n",
    " 'month']"
   ]
  },
  {
   "cell_type": "code",
   "execution_count": 7,
   "id": "47eb3229-26f6-49c0-9f77-0352a2940cf4",
   "metadata": {},
   "outputs": [],
   "source": [
    "qcut_dict = {}\n",
    "for var in qcut_vars:\n",
    "    qcut_dict[var] = [i*0.05 for i in range(1,20)]"
   ]
  },
  {
   "cell_type": "code",
   "execution_count": 8,
   "id": "7613abb7-a9c5-44de-bb0c-77ea2baecfbb",
   "metadata": {},
   "outputs": [],
   "source": [
    "sampled_data_0, cps0 = binning_q(sampled_data_0, qcut_dict)\n",
    "sampled_data_1, cps1 = binning_q(sampled_data_1, qcut_dict)\n",
    "sampled_data_2, cps2 = binning_q(sampled_data_2, qcut_dict)"
   ]
  },
  {
   "cell_type": "code",
   "execution_count": 10,
   "id": "1579e57c-a0b3-4146-a2aa-8191447a2f6f",
   "metadata": {
    "scrolled": true
   },
   "outputs": [],
   "source": [
    "figs = []\n",
    "for var in qcut_vars:\n",
    "    var_bin = f\"{var}_bin\"\n",
    "    xy = pivot(sampled_data_0, varlist={'fraud_bool':('logodds','sample_weight'), var:'mean'}, by_vars = [var_bin])\n",
    "    figs.append(px_scatter_plot(xy, f'mean_{var}', 'logodds_fraud_bool', show=False))\n",
    "\n",
    "if os.path.exists(\"logodds_plots_segment0.html\"):\n",
    "  os.remove(\"logodds_plots_segment0.html\")\n",
    "    \n",
    "with open('logodds_plots_segment0.html', 'a') as file:\n",
    "    for f in figs:\n",
    "        file.write(f.to_html())"
   ]
  },
  {
   "cell_type": "code",
   "execution_count": 11,
   "id": "cc8d4672-2d7f-4e5a-843f-0599756471a8",
   "metadata": {},
   "outputs": [],
   "source": [
    "figs = []\n",
    "for var in qcut_vars:\n",
    "    var_bin = f\"{var}_bin\"\n",
    "    xy = pivot(sampled_data_1, varlist={'fraud_bool':('logodds','sample_weight'), var:'mean'}, by_vars = [var_bin])\n",
    "    figs.append(px_scatter_plot(xy, f'mean_{var}', 'logodds_fraud_bool', show=False))\n",
    "\n",
    "if os.path.exists(\"logodds_plots_segment1.html\"):\n",
    "  os.remove(\"logodds_plots_segment1.html\")\n",
    "    \n",
    "with open('logodds_plots_segment1.html', 'a') as file:\n",
    "    for f in figs:\n",
    "        file.write(f.to_html())"
   ]
  },
  {
   "cell_type": "code",
   "execution_count": 12,
   "id": "fed2fa7b-56ec-4192-b670-6083eb2a937a",
   "metadata": {},
   "outputs": [],
   "source": [
    "figs = []\n",
    "for var in qcut_vars:\n",
    "    var_bin = f\"{var}_bin\"\n",
    "    xy = pivot(sampled_data_2, varlist={'fraud_bool':('logodds','sample_weight'), var:'mean'}, by_vars = [var_bin])\n",
    "    figs.append(px_scatter_plot(xy, f'mean_{var}', 'logodds_fraud_bool', show=False))\n",
    "\n",
    "if os.path.exists(\"logodds_plots_segment2.html\"):\n",
    "  os.remove(\"logodds_plots_segment2.html\")\n",
    "    \n",
    "with open('logodds_plots_segment2.html', 'a') as file:\n",
    "    for f in figs:\n",
    "        file.write(f.to_html())"
   ]
  },
  {
   "cell_type": "code",
   "execution_count": null,
   "id": "a7b27b77-d650-4daf-a02c-b09675112bcc",
   "metadata": {},
   "outputs": [],
   "source": []
  }
 ],
 "metadata": {
  "kernelspec": {
   "display_name": "Python [conda env:base] *",
   "language": "python",
   "name": "conda-base-py"
  },
  "language_info": {
   "codemirror_mode": {
    "name": "ipython",
    "version": 3
   },
   "file_extension": ".py",
   "mimetype": "text/x-python",
   "name": "python",
   "nbconvert_exporter": "python",
   "pygments_lexer": "ipython3",
   "version": "3.11.7"
  }
 },
 "nbformat": 4,
 "nbformat_minor": 5
}
