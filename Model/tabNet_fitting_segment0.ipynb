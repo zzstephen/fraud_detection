{
 "cells": [
  {
   "cell_type": "code",
   "execution_count": 1,
   "id": "d9bb304e-13bf-4eb0-97de-2a37bd171787",
   "metadata": {},
   "outputs": [],
   "source": [
    "import pandas as pd\n",
    "import numpy as np\n",
    "import sys\n",
    "sys.path.append('../utilities')\n",
    "from basic_utilities import *\n",
    "from model_utilities import *\n",
    "from pandas.plotting import scatter_matrix\n",
    "from ml_utilities import *\n",
    "import scipy.stats as stats\n",
    "import pdb\n",
    "import os\n",
    "import warnings\n",
    "warnings.filterwarnings(\"ignore\")\n",
    "import matplotlib.pyplot as plt\n",
    "import pickle\n",
    "sys.path.append('../Data_prep')\n",
    "from data_config import *\n",
    "sys.path.append('../../../../infrastructure/tools')\n",
    "from feature_engineering import feature_engineering\n",
    "from utilities import utilities\n",
    "import re\n",
    "import statsmodels.api as sm\n",
    "import statsmodels.formula.api as smf\n",
    "import pdb"
   ]
  },
  {
   "cell_type": "code",
   "execution_count": 2,
   "id": "cd0a32fd-b7b4-426d-ae98-40d1286187a1",
   "metadata": {},
   "outputs": [],
   "source": [
    "from pytorch_tabnet.tab_model import TabNetClassifier\n",
    "from sklearn.model_selection import train_test_split\n",
    "from sklearn.preprocessing import MinMaxScaler\n",
    "from sklearn.metrics import accuracy_score\n",
    "import torch\n",
    "from sklearn.metrics import roc_auc_score"
   ]
  },
  {
   "cell_type": "code",
   "execution_count": 3,
   "id": "b9d83084-edd5-41c6-801f-c0163f199387",
   "metadata": {},
   "outputs": [],
   "source": [
    "from shap import KernelExplainer"
   ]
  },
  {
   "cell_type": "code",
   "execution_count": 4,
   "id": "cd21e472-5a2b-4f79-bc74-00f2f9787d00",
   "metadata": {},
   "outputs": [],
   "source": [
    "train_sample = pd.read_csv('../../../data/processed_data/train_sample_segment0_logit.csv')"
   ]
  },
  {
   "cell_type": "code",
   "execution_count": 5,
   "id": "83e67072-dfe3-419b-acac-8ce6ef3fdeee",
   "metadata": {},
   "outputs": [
    {
     "data": {
      "text/plain": [
       "(23973, 135)"
      ]
     },
     "execution_count": 5,
     "metadata": {},
     "output_type": "execute_result"
    }
   ],
   "source": [
    "train_sample.shape"
   ]
  },
  {
   "cell_type": "code",
   "execution_count": 6,
   "id": "e762bdd4-5377-4bee-be1f-560310eeb83a",
   "metadata": {},
   "outputs": [],
   "source": [
    "get_knots = read_yaml_file('../Data_prep/1d_knots_segment0.yaml')['get_knots']"
   ]
  },
  {
   "cell_type": "code",
   "execution_count": 7,
   "id": "a10d4bc4-9cbb-4346-bf4c-99c8987e2afd",
   "metadata": {},
   "outputs": [],
   "source": [
    "knots_vars = []\n",
    "for var in get_knots:\n",
    "    matching_strings = [s for s in train_sample.columns.tolist() if re.search(f\"{var}_\", s)]\n",
    "    knots_vars += matching_strings"
   ]
  },
  {
   "cell_type": "code",
   "execution_count": 8,
   "id": "e3270374-a4c2-4a19-96be-561f76e1172f",
   "metadata": {},
   "outputs": [],
   "source": [
    "get_dummy = read_yaml_file('../Data_prep/dummy_grouping_segment0_draft.yaml')['get_dummies']"
   ]
  },
  {
   "cell_type": "code",
   "execution_count": 9,
   "id": "a7a08cb5-e63b-4b52-83de-158c6f3bcf26",
   "metadata": {},
   "outputs": [],
   "source": [
    "dummy_vars = []\n",
    "for var in get_dummy:\n",
    "    matching_strings = [s for s in train_sample.columns.tolist() if re.search(f\"{var}_\", s)]\n",
    "    dummy_vars += matching_strings"
   ]
  },
  {
   "cell_type": "code",
   "execution_count": 10,
   "id": "2fc6933e-57ec-485c-8f2f-0d1c8807c3cc",
   "metadata": {},
   "outputs": [],
   "source": [
    "binning_features = read_yaml_file('../Data_prep/binning_features_segment0.yaml')['binning_features']"
   ]
  },
  {
   "cell_type": "code",
   "execution_count": 11,
   "id": "dfb98f92-96be-48fe-b4a6-a1bb4c912ecd",
   "metadata": {},
   "outputs": [],
   "source": [
    "binning_features = [f.split(',')[0] for f in binning_features]"
   ]
  },
  {
   "cell_type": "code",
   "execution_count": 12,
   "id": "ee46a0c1-0d75-4d9d-b858-2ed57659cbda",
   "metadata": {},
   "outputs": [],
   "source": [
    "bin_vars = []\n",
    "for var in binning_features:\n",
    "    matching_strings = [s for s in train_sample.columns.tolist() if re.search(f\"{var}_bin:\", s)]\n",
    "    bin_vars += matching_strings"
   ]
  },
  {
   "cell_type": "code",
   "execution_count": 13,
   "id": "0922b635-a35d-4873-99fc-abe033a95f9f",
   "metadata": {},
   "outputs": [
    {
     "data": {
      "text/plain": [
       "[]"
      ]
     },
     "execution_count": 13,
     "metadata": {},
     "output_type": "execute_result"
    }
   ],
   "source": [
    "bin_vars"
   ]
  },
  {
   "cell_type": "code",
   "execution_count": 14,
   "id": "b544b3a4-b2ed-4b29-afba-5071af589520",
   "metadata": {},
   "outputs": [],
   "source": [
    "spec1 = knots_vars + dummy_vars + bin_vars\n",
    "spec1 = sorted(list(set(spec1)))"
   ]
  },
  {
   "cell_type": "code",
   "execution_count": 15,
   "id": "69bb32a7-25d7-4922-ab47-27accbd42555",
   "metadata": {},
   "outputs": [],
   "source": [
    "Xtrain = train_sample[spec1].astype('float')\n",
    "ytrain = train_sample['fraud_bool']\n",
    "weights = train_sample['sample_weight']"
   ]
  },
  {
   "cell_type": "code",
   "execution_count": 16,
   "id": "629ca5f0-b53d-48b9-9778-cb15f15cc3a4",
   "metadata": {},
   "outputs": [
    {
     "name": "stdout",
     "output_type": "stream",
     "text": [
      "epoch 0  | loss: 0.18903 |  0:00:01s\n",
      "epoch 1  | loss: 0.08815 |  0:00:02s\n",
      "epoch 2  | loss: 0.08644 |  0:00:03s\n",
      "epoch 3  | loss: 0.0819  |  0:00:04s\n",
      "epoch 4  | loss: 0.08258 |  0:00:05s\n",
      "epoch 5  | loss: 0.07653 |  0:00:06s\n",
      "epoch 6  | loss: 0.07535 |  0:00:07s\n",
      "epoch 7  | loss: 0.08442 |  0:00:08s\n",
      "epoch 8  | loss: 0.08245 |  0:00:09s\n",
      "epoch 9  | loss: 0.08138 |  0:00:10s\n",
      "epoch 10 | loss: 0.07539 |  0:00:11s\n",
      "epoch 11 | loss: 0.07835 |  0:00:12s\n",
      "epoch 12 | loss: 0.07989 |  0:00:13s\n",
      "epoch 13 | loss: 0.08366 |  0:00:14s\n",
      "epoch 14 | loss: 0.07552 |  0:00:15s\n",
      "epoch 15 | loss: 0.07235 |  0:00:16s\n",
      "epoch 16 | loss: 0.07878 |  0:00:17s\n",
      "epoch 17 | loss: 0.07827 |  0:00:18s\n",
      "epoch 18 | loss: 0.07281 |  0:00:19s\n",
      "epoch 19 | loss: 0.07229 |  0:00:21s\n",
      "epoch 20 | loss: 0.07133 |  0:00:22s\n",
      "epoch 21 | loss: 0.07799 |  0:00:23s\n",
      "epoch 22 | loss: 0.0751  |  0:00:24s\n",
      "epoch 23 | loss: 0.0713  |  0:00:25s\n",
      "epoch 24 | loss: 0.07221 |  0:00:26s\n",
      "epoch 25 | loss: 0.07405 |  0:00:27s\n",
      "epoch 26 | loss: 0.07611 |  0:00:28s\n",
      "epoch 27 | loss: 0.07086 |  0:00:29s\n",
      "epoch 28 | loss: 0.07588 |  0:00:30s\n",
      "epoch 29 | loss: 0.07194 |  0:00:31s\n",
      "epoch 30 | loss: 0.07199 |  0:00:32s\n",
      "epoch 31 | loss: 0.07842 |  0:00:33s\n",
      "epoch 32 | loss: 0.0658  |  0:00:34s\n",
      "epoch 33 | loss: 0.07223 |  0:00:35s\n",
      "epoch 34 | loss: 0.0742  |  0:00:36s\n",
      "epoch 35 | loss: 0.06922 |  0:00:37s\n",
      "epoch 36 | loss: 0.07714 |  0:00:38s\n",
      "epoch 37 | loss: 0.07356 |  0:00:39s\n",
      "epoch 38 | loss: 0.07185 |  0:00:40s\n",
      "epoch 39 | loss: 0.07561 |  0:00:41s\n",
      "epoch 40 | loss: 0.07307 |  0:00:42s\n",
      "epoch 41 | loss: 0.07377 |  0:00:43s\n",
      "epoch 42 | loss: 0.0709  |  0:00:44s\n",
      "epoch 43 | loss: 0.07051 |  0:00:46s\n",
      "epoch 44 | loss: 0.07463 |  0:00:47s\n",
      "epoch 45 | loss: 0.06846 |  0:00:48s\n",
      "epoch 46 | loss: 0.07501 |  0:00:49s\n",
      "epoch 47 | loss: 0.06879 |  0:00:50s\n",
      "epoch 48 | loss: 0.06887 |  0:00:51s\n",
      "epoch 49 | loss: 0.07057 |  0:00:52s\n",
      "epoch 50 | loss: 0.06952 |  0:00:53s\n",
      "epoch 51 | loss: 0.0775  |  0:00:54s\n",
      "epoch 52 | loss: 0.06911 |  0:00:55s\n",
      "epoch 53 | loss: 0.06912 |  0:00:56s\n",
      "epoch 54 | loss: 0.07054 |  0:00:57s\n",
      "epoch 55 | loss: 0.072   |  0:00:58s\n",
      "epoch 56 | loss: 0.07007 |  0:00:59s\n",
      "epoch 57 | loss: 0.0713  |  0:01:00s\n",
      "epoch 58 | loss: 0.06971 |  0:01:01s\n",
      "epoch 59 | loss: 0.07205 |  0:01:02s\n",
      "epoch 60 | loss: 0.06891 |  0:01:03s\n",
      "epoch 61 | loss: 0.06809 |  0:01:04s\n",
      "epoch 62 | loss: 0.07188 |  0:01:05s\n",
      "epoch 63 | loss: 0.07336 |  0:01:06s\n",
      "epoch 64 | loss: 0.0778  |  0:01:07s\n",
      "epoch 65 | loss: 0.07331 |  0:01:08s\n",
      "epoch 66 | loss: 0.07195 |  0:01:09s\n",
      "epoch 67 | loss: 0.07654 |  0:01:10s\n",
      "epoch 68 | loss: 0.07233 |  0:01:12s\n",
      "epoch 69 | loss: 0.0661  |  0:01:13s\n",
      "epoch 70 | loss: 0.06921 |  0:01:14s\n",
      "epoch 71 | loss: 0.07011 |  0:01:15s\n",
      "epoch 72 | loss: 0.07034 |  0:01:16s\n",
      "epoch 73 | loss: 0.07256 |  0:01:17s\n",
      "epoch 74 | loss: 0.07039 |  0:01:18s\n",
      "epoch 75 | loss: 0.07647 |  0:01:19s\n",
      "epoch 76 | loss: 0.0704  |  0:01:20s\n",
      "epoch 77 | loss: 0.06978 |  0:01:21s\n",
      "epoch 78 | loss: 0.0708  |  0:01:22s\n",
      "epoch 79 | loss: 0.0727  |  0:01:23s\n",
      "epoch 80 | loss: 0.06916 |  0:01:24s\n",
      "epoch 81 | loss: 0.07139 |  0:01:25s\n",
      "epoch 82 | loss: 0.06759 |  0:01:26s\n",
      "epoch 83 | loss: 0.0759  |  0:01:27s\n",
      "epoch 84 | loss: 0.07254 |  0:01:28s\n",
      "epoch 85 | loss: 0.07362 |  0:01:29s\n",
      "epoch 86 | loss: 0.07367 |  0:01:30s\n",
      "epoch 87 | loss: 0.06737 |  0:01:31s\n",
      "epoch 88 | loss: 0.06981 |  0:01:32s\n",
      "epoch 89 | loss: 0.07048 |  0:01:33s\n",
      "epoch 90 | loss: 0.07408 |  0:01:34s\n",
      "epoch 91 | loss: 0.07544 |  0:01:35s\n",
      "epoch 92 | loss: 0.06963 |  0:01:36s\n",
      "epoch 93 | loss: 0.06739 |  0:01:37s\n",
      "epoch 94 | loss: 0.06788 |  0:01:38s\n",
      "epoch 95 | loss: 0.07178 |  0:01:39s\n",
      "epoch 96 | loss: 0.06342 |  0:01:40s\n",
      "epoch 97 | loss: 0.0709  |  0:01:41s\n",
      "epoch 98 | loss: 0.07416 |  0:01:42s\n",
      "epoch 99 | loss: 0.0741  |  0:01:43s\n"
     ]
    }
   ],
   "source": [
    "model = TabNetClassifier()\n",
    "\n",
    "model.fit(\n",
    "    X_train=Xtrain.values,\n",
    "    y_train=ytrain,\n",
    "    weights=weights,\n",
    ")"
   ]
  },
  {
   "cell_type": "code",
   "execution_count": 17,
   "id": "492c0fea-15d2-4ed3-8940-157f3c769654",
   "metadata": {},
   "outputs": [],
   "source": [
    "predictions = model.predict(Xtrain.values)"
   ]
  },
  {
   "cell_type": "code",
   "execution_count": 18,
   "id": "e40fabde-e630-4446-a8d2-e58c7929ec79",
   "metadata": {},
   "outputs": [
    {
     "name": "stdout",
     "output_type": "stream",
     "text": [
      "Accuracy: 0.8520418804488383\n"
     ]
    }
   ],
   "source": [
    "\n",
    "accuracy = accuracy_score(ytrain, predictions)\n",
    "print(f\"Accuracy: {accuracy}\")"
   ]
  },
  {
   "cell_type": "code",
   "execution_count": 19,
   "id": "a89ef3fc-1d5f-45c8-80dd-a7c3be3db8da",
   "metadata": {},
   "outputs": [
    {
     "name": "stdout",
     "output_type": "stream",
     "text": [
      "AUROC score: 0.5032212885154062\n"
     ]
    }
   ],
   "source": [
    "auroc = roc_auc_score(ytrain, predictions)\n",
    "print(f\"AUROC score: {auroc}\")"
   ]
  },
  {
   "cell_type": "code",
   "execution_count": 20,
   "id": "24c18471-c031-40e6-b0a9-4c23f788bee4",
   "metadata": {},
   "outputs": [],
   "source": [
    "\n",
    "# explainer = KernelExplainer(model.predict_proba, Xtrain.values) \n",
    "\n",
    "# # Calculate SHAP values for a subset of the test data (e.g., first 100 rows)\n",
    "# shap_values = explainer.shap_values(Xtrain.values[:100])\n",
    "\n",
    "# # Visualize the explanation for a single instance (e.g., the first instance)\n"
   ]
  },
  {
   "cell_type": "code",
   "execution_count": null,
   "id": "98df8718-4609-40a3-96af-f96c82bf963f",
   "metadata": {},
   "outputs": [],
   "source": []
  },
  {
   "cell_type": "code",
   "execution_count": 21,
   "id": "5363d2ad-d548-4eef-8ac6-bf7a05608f69",
   "metadata": {},
   "outputs": [],
   "source": [
    "# shap.initjs()\n",
    "# shap.force_plot(explainer.expected_value[1], shap_values[1][0,:], Xtrain.values.iloc[0,:])\n",
    "\n",
    "# # Generate a summary plot to show feature importance across the dataset\n",
    "# shap.summary_plot(shap_values, Xtrain.values) "
   ]
  },
  {
   "cell_type": "code",
   "execution_count": null,
   "id": "95a9a833-dd5f-4b4d-a685-d718692343af",
   "metadata": {},
   "outputs": [],
   "source": []
  },
  {
   "cell_type": "code",
   "execution_count": null,
   "id": "511ea1ae-af1c-4ef1-9c85-b9b29ea6b31d",
   "metadata": {},
   "outputs": [],
   "source": []
  },
  {
   "cell_type": "code",
   "execution_count": null,
   "id": "4cef6563-236e-4e66-bce0-eef468482b35",
   "metadata": {},
   "outputs": [],
   "source": []
  },
  {
   "cell_type": "code",
   "execution_count": null,
   "id": "6bf373d4-2db8-420f-9091-bad1594731c4",
   "metadata": {},
   "outputs": [],
   "source": []
  },
  {
   "cell_type": "code",
   "execution_count": null,
   "id": "3edab50d-54a9-4fb7-a28a-a266afdcf300",
   "metadata": {},
   "outputs": [],
   "source": []
  }
 ],
 "metadata": {
  "kernelspec": {
   "display_name": "Python 3 (ipykernel)",
   "language": "python",
   "name": "python3"
  },
  "language_info": {
   "codemirror_mode": {
    "name": "ipython",
    "version": 3
   },
   "file_extension": ".py",
   "mimetype": "text/x-python",
   "name": "python",
   "nbconvert_exporter": "python",
   "pygments_lexer": "ipython3",
   "version": "3.12.7"
  }
 },
 "nbformat": 4,
 "nbformat_minor": 5
}
