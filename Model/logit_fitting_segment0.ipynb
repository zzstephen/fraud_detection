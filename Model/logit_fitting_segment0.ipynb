{
 "cells": [
  {
   "cell_type": "code",
   "execution_count": 1,
   "id": "d9bb304e-13bf-4eb0-97de-2a37bd171787",
   "metadata": {},
   "outputs": [],
   "source": [
    "import pandas as pd\n",
    "import numpy as np\n",
    "import sys\n",
    "sys.path.append('../utilities')\n",
    "from basic_utilities import *\n",
    "from model_utilities import *\n",
    "from pandas.plotting import scatter_matrix\n",
    "from ml_utilities import *\n",
    "import scipy.stats as stats\n",
    "import pdb\n",
    "import os\n",
    "import warnings\n",
    "warnings.filterwarnings(\"ignore\")\n",
    "import matplotlib.pyplot as plt\n",
    "import pickle\n",
    "sys.path.append('../Data_prep')\n",
    "from data_config import *\n",
    "sys.path.append('../../../../infrastructure/tools')\n",
    "from feature_engineering import feature_engineering\n",
    "from utilities import utilities\n",
    "import re\n",
    "import statsmodels.api as sm\n",
    "import statsmodels.formula.api as smf\n",
    "import pdb\n",
    "from statsmodels.gam.api import GLMGam, BSplines"
   ]
  },
  {
   "cell_type": "code",
   "execution_count": 2,
   "id": "cd21e472-5a2b-4f79-bc74-00f2f9787d00",
   "metadata": {},
   "outputs": [],
   "source": [
    "train_sample = pd.read_csv('../../../data/processed_data/train_sample_segment0_logit.csv')"
   ]
  },
  {
   "cell_type": "code",
   "execution_count": 3,
   "id": "83e67072-dfe3-419b-acac-8ce6ef3fdeee",
   "metadata": {},
   "outputs": [
    {
     "data": {
      "text/plain": [
       "(23973, 135)"
      ]
     },
     "execution_count": 3,
     "metadata": {},
     "output_type": "execute_result"
    }
   ],
   "source": [
    "train_sample.shape"
   ]
  },
  {
   "cell_type": "code",
   "execution_count": 4,
   "id": "e762bdd4-5377-4bee-be1f-560310eeb83a",
   "metadata": {},
   "outputs": [],
   "source": [
    "get_knots = read_yaml_file('../Data_prep/1d_knots_segment0.yaml')['get_knots']"
   ]
  },
  {
   "cell_type": "code",
   "execution_count": 5,
   "id": "a10d4bc4-9cbb-4346-bf4c-99c8987e2afd",
   "metadata": {},
   "outputs": [],
   "source": [
    "knots_vars = []\n",
    "for var in get_knots:\n",
    "    matching_strings = [s for s in train_sample.columns.tolist() if re.search(f\"{var}_\", s)]\n",
    "    knots_vars += matching_strings"
   ]
  },
  {
   "cell_type": "code",
   "execution_count": 6,
   "id": "e3270374-a4c2-4a19-96be-561f76e1172f",
   "metadata": {},
   "outputs": [],
   "source": [
    "get_dummy = read_yaml_file('../Data_prep/dummy_grouping_segment0_draft.yaml')['get_dummies']"
   ]
  },
  {
   "cell_type": "code",
   "execution_count": 7,
   "id": "a7a08cb5-e63b-4b52-83de-158c6f3bcf26",
   "metadata": {},
   "outputs": [],
   "source": [
    "dummy_vars = []\n",
    "for var in get_dummy:\n",
    "    matching_strings = [s for s in train_sample.columns.tolist() if re.search(f\"{var}_\", s)]\n",
    "    dummy_vars += matching_strings"
   ]
  },
  {
   "cell_type": "code",
   "execution_count": 8,
   "id": "2fc6933e-57ec-485c-8f2f-0d1c8807c3cc",
   "metadata": {},
   "outputs": [],
   "source": [
    "binning_features = read_yaml_file('../Data_prep/binning_features_segment0.yaml')['binning_features']"
   ]
  },
  {
   "cell_type": "code",
   "execution_count": 9,
   "id": "dfb98f92-96be-48fe-b4a6-a1bb4c912ecd",
   "metadata": {},
   "outputs": [],
   "source": [
    "binning_features = [f.split(',')[0] for f in binning_features]"
   ]
  },
  {
   "cell_type": "code",
   "execution_count": 10,
   "id": "ee46a0c1-0d75-4d9d-b858-2ed57659cbda",
   "metadata": {},
   "outputs": [],
   "source": [
    "bin_vars = []\n",
    "for var in binning_features:\n",
    "    matching_strings = [s for s in train_sample.columns.tolist() if re.search(f\"{var}_bin_\", s)]\n",
    "    bin_vars += matching_strings"
   ]
  },
  {
   "cell_type": "code",
   "execution_count": 11,
   "id": "0922b635-a35d-4873-99fc-abe033a95f9f",
   "metadata": {},
   "outputs": [
    {
     "data": {
      "text/plain": [
       "['bank_branch_count_8w_bin_1',\n",
       " 'bank_branch_count_8w_bin_nan',\n",
       " 'days_since_request_bin_1',\n",
       " 'days_since_request_bin_nan',\n",
       " 'session_length_in_minutes_bin_1',\n",
       " 'session_length_in_minutes_bin_2',\n",
       " 'session_length_in_minutes_bin_nan']"
      ]
     },
     "execution_count": 11,
     "metadata": {},
     "output_type": "execute_result"
    }
   ],
   "source": [
    "bin_vars"
   ]
  },
  {
   "cell_type": "code",
   "execution_count": 12,
   "id": "b544b3a4-b2ed-4b29-afba-5071af589520",
   "metadata": {},
   "outputs": [],
   "source": [
    "spec1 = knots_vars + dummy_vars + bin_vars\n",
    "spec1 = sorted(list(set(spec1)))"
   ]
  },
  {
   "cell_type": "code",
   "execution_count": 13,
   "id": "69bb32a7-25d7-4922-ab47-27accbd42555",
   "metadata": {},
   "outputs": [],
   "source": [
    "Xtrain = train_sample[spec1].astype('float')\n",
    "ytrain = train_sample['fraud_bool']\n",
    "weights = train_sample['sample_weight']"
   ]
  },
  {
   "cell_type": "code",
   "execution_count": 14,
   "id": "bc83b1fd-b2d2-4294-8ff6-884554072773",
   "metadata": {},
   "outputs": [
    {
     "name": "stdout",
     "output_type": "stream",
     "text": [
      "                 Generalized Linear Model Regression Results                  \n",
      "==============================================================================\n",
      "Dep. Variable:             fraud_bool   No. Observations:                23973\n",
      "Model:                            GLM   Df Residuals:                    23928\n",
      "Model Family:                Binomial   Df Model:                           44\n",
      "Link Function:                  Logit   Scale:                          1.0000\n",
      "Method:                          IRLS   Log-Likelihood:                -14282.\n",
      "Date:                Fri, 20 Jun 2025   Deviance:                       28563.\n",
      "Time:                        15:01:33   Pearson chi2:                 1.94e+05\n",
      "No. Iterations:                   100   Pseudo R-squ. (CS):             0.2694\n",
      "Covariance Type:            nonrobust                                         \n",
      "===========================================================================================================\n",
      "                                              coef    std err          z      P>|z|      [0.025      0.975]\n",
      "-----------------------------------------------------------------------------------------------------------\n",
      "bank_branch_count_8w_bin_1                 -0.5369      0.050    -10.771      0.000      -0.635      -0.439\n",
      "bank_branch_count_8w_bin_nan             4.235e-09      0.000   3.46e-05      1.000      -0.000       0.000\n",
      "credit_risk_score_0                         0.0138      0.003      5.161      0.000       0.009       0.019\n",
      "credit_risk_score_1                         0.0042      0.003      1.355      0.175      -0.002       0.010\n",
      "credit_risk_score_2                        -0.0067      0.004     -1.602      0.109      -0.015       0.001\n",
      "credit_risk_score_3                         0.0085      0.001     16.226      0.000       0.007       0.009\n",
      "credit_risk_score_4                     -8.623e-08      0.002  -3.46e-05      1.000      -0.005       0.005\n",
      "credit_risk_score_capped                -4.894e-10   1.41e-05  -3.46e-05      1.000   -2.77e-05    2.77e-05\n",
      "current_address_months_count_0           -2.97e-08      0.001  -3.46e-05      1.000      -0.002       0.002\n",
      "current_address_months_count_1              0.0229      0.001     22.378      0.000       0.021       0.025\n",
      "current_address_months_count_2             -0.0113      0.001    -17.325      0.000      -0.013      -0.010\n",
      "current_address_months_count_3              0.0008      0.000      1.804      0.071   -7.09e-05       0.002\n",
      "current_address_months_count_4           -1.92e-08      0.001  -3.46e-05      1.000      -0.001       0.001\n",
      "current_address_months_count_capped     -2.698e-08      0.001  -3.46e-05      1.000      -0.002       0.002\n",
      "customer_age_0                             -0.0009      0.001     -0.901      0.368      -0.003       0.001\n",
      "customer_age_1                          -2.057e-08      0.001  -3.46e-05      1.000      -0.001       0.001\n",
      "customer_age_2                          -6.437e-10   1.86e-05  -3.46e-05      1.000   -3.64e-05    3.64e-05\n",
      "customer_age_3                          -5.246e-09      0.000  -3.46e-05      1.000      -0.000       0.000\n",
      "customer_age_capped                     -7.832e-05      0.000     -0.390      0.697      -0.000       0.000\n",
      "date_of_birth_distinct_emails_4w_0      -3.076e-08      0.001  -3.46e-05      1.000      -0.002       0.002\n",
      "date_of_birth_distinct_emails_4w_1         -0.1885      0.015    -12.495      0.000      -0.218      -0.159\n",
      "date_of_birth_distinct_emails_4w_2          0.0312      0.016      1.958      0.050   -3.58e-05       0.062\n",
      "date_of_birth_distinct_emails_4w_3         -0.0097      0.009     -1.075      0.282      -0.027       0.008\n",
      "date_of_birth_distinct_emails_4w_4         1.5e-08      0.000   3.46e-05      1.000      -0.001       0.001\n",
      "date_of_birth_distinct_emails_4w_capped  3.129e-08      0.001   3.46e-05      1.000      -0.002       0.002\n",
      "days_since_request_bin_1                   -0.0891      0.037     -2.413      0.016      -0.161      -0.017\n",
      "days_since_request_bin_nan               3.479e-08      0.001   3.46e-05      1.000      -0.002       0.002\n",
      "device_distinct_emails_8w_0                 1.5593      0.191      8.168      0.000       1.185       1.934\n",
      "device_distinct_emails_8w_1                 0.1261      0.180      0.700      0.484      -0.227       0.479\n",
      "device_distinct_emails_8w_capped        -1.052e-08      0.000  -3.46e-05      1.000      -0.001       0.001\n",
      "device_os_0                                 1.2168      0.053     22.812      0.000       1.112       1.321\n",
      "device_os_1                                 0.0638      0.066      0.970      0.332      -0.065       0.193\n",
      "device_os_2                                 0.8189      0.194      4.225      0.000       0.439       1.199\n",
      "device_os_3                                 0.8862      0.084     10.506      0.000       0.721       1.052\n",
      "employment_status_0                        -0.5590      0.298     -1.878      0.060      -1.143       0.024\n",
      "employment_status_1                         1.3211      0.749      1.764      0.078      -0.147       2.789\n",
      "employment_status_2                         0.0148      0.074      0.201      0.840      -0.129       0.159\n",
      "employment_status_3                        -1.0776      0.237     -4.548      0.000      -1.542      -0.613\n",
      "employment_status_4                        -0.6147      0.066     -9.306      0.000      -0.744      -0.485\n",
      "employment_status_5                        -0.8167      0.274     -2.977      0.003      -1.354      -0.279\n",
      "housing_status_0                           -1.5767      0.104    -15.126      0.000      -1.781      -1.372\n",
      "housing_status_1                         -244.9770   7.07e+06  -3.46e-05      1.000   -1.39e+07    1.39e+07\n",
      "housing_status_2                           -0.8968      0.052    -17.370      0.000      -0.998      -0.796\n",
      "housing_status_3                           -1.6719      0.997     -1.678      0.093      -3.625       0.281\n",
      "housing_status_4                           -1.0787      0.058    -18.469      0.000      -1.193      -0.964\n",
      "housing_status_5                           -0.8265      0.141     -5.853      0.000      -1.103      -0.550\n",
      "income_0                                         0          0        nan        nan           0           0\n",
      "income_1                                   -0.8075      0.427     -1.892      0.058      -1.644       0.029\n",
      "income_2                                    1.4759      0.110     13.361      0.000       1.259       1.692\n",
      "income_3                                         0          0        nan        nan           0           0\n",
      "income_capped                                    0          0        nan        nan           0           0\n",
      "name_email_similarity_0                          0          0        nan        nan           0           0\n",
      "name_email_similarity_1                    -2.2564      0.132    -17.083      0.000      -2.515      -1.997\n",
      "name_email_similarity_2                     2.5047      0.465      5.387      0.000       1.593       3.416\n",
      "name_email_similarity_3                    -2.2248      0.494     -4.506      0.000      -3.193      -1.257\n",
      "name_email_similarity_4                          0          0        nan        nan           0           0\n",
      "name_email_similarity_capped                     0          0        nan        nan           0           0\n",
      "payment_type_0                              0.5478      0.072      7.590      0.000       0.406       0.689\n",
      "payment_type_1                           -101.1244   9.49e+06  -1.07e-05      1.000   -1.86e+07    1.86e+07\n",
      "payment_type_2                              0.6044      0.066      9.141      0.000       0.475       0.734\n",
      "payment_type_3                              0.3868      0.059      6.592      0.000       0.272       0.502\n",
      "proposed_credit_limit_0                    -0.0157      0.003     -5.159      0.000      -0.022      -0.010\n",
      "proposed_credit_limit_1                    -0.0006   9.08e-05     -6.439      0.000      -0.001      -0.000\n",
      "proposed_credit_limit_2                     0.0008      0.000      7.467      0.000       0.001       0.001\n",
      "proposed_credit_limit_3                     0.0023      0.000     16.659      0.000       0.002       0.003\n",
      "proposed_credit_limit_4                          0          0        nan        nan           0           0\n",
      "proposed_credit_limit_capped                0.8883      0.793      1.121      0.262      -0.665       2.442\n",
      "session_length_in_minutes_bin_1            -0.0379      0.047     -0.807      0.419      -0.130       0.054\n",
      "session_length_in_minutes_bin_2             0.5080      0.084      6.051      0.000       0.343       0.673\n",
      "session_length_in_minutes_bin_nan                0          0        nan        nan           0           0\n",
      "===========================================================================================================\n"
     ]
    }
   ],
   "source": [
    "glm = sm.GLM(ytrain, Xtrain, family=sm.families.Binomial(), var_weights=weights)\n",
    "model1 = glm.fit()\n",
    "print(model1.summary())"
   ]
  },
  {
   "cell_type": "code",
   "execution_count": 15,
   "id": "65e7cd96-b85f-472b-ae2c-ca7da9166e96",
   "metadata": {},
   "outputs": [],
   "source": [
    "model2 = model1\n",
    "while True:\n",
    "    res = utilities.get_beta_n_pvalues(model2)\n",
    "    spec = list(res['feature'].values)\n",
    "    newspec = sorted(res.loc[(pd.notna(res['p-values'])) & (res['p-values']<0.05),'feature'])\n",
    "    if len(newspec) == len(spec):\n",
    "        break\n",
    "    else:\n",
    "        glm = sm.GLM(ytrain, Xtrain[newspec], family=sm.families.Binomial(), var_weights=weights)\n",
    "        model2 = glm.fit()"
   ]
  },
  {
   "cell_type": "code",
   "execution_count": 16,
   "id": "bce05fb6-d251-4384-8129-624de146c2d6",
   "metadata": {},
   "outputs": [],
   "source": [
    "model2_spec = newspec"
   ]
  },
  {
   "cell_type": "code",
   "execution_count": 17,
   "id": "a81d345d-2a2d-4035-9e65-ae533c3d3f67",
   "metadata": {},
   "outputs": [
    {
     "data": {
      "text/html": [
       "<div>\n",
       "<style scoped>\n",
       "    .dataframe tbody tr th:only-of-type {\n",
       "        vertical-align: middle;\n",
       "    }\n",
       "\n",
       "    .dataframe tbody tr th {\n",
       "        vertical-align: top;\n",
       "    }\n",
       "\n",
       "    .dataframe thead th {\n",
       "        text-align: right;\n",
       "    }\n",
       "</style>\n",
       "<table border=\"1\" class=\"dataframe\">\n",
       "  <thead>\n",
       "    <tr style=\"text-align: right;\">\n",
       "      <th></th>\n",
       "      <th>feature</th>\n",
       "      <th>coef</th>\n",
       "      <th>abs_coef</th>\n",
       "      <th>p-values</th>\n",
       "    </tr>\n",
       "  </thead>\n",
       "  <tbody>\n",
       "    <tr>\n",
       "      <th>20</th>\n",
       "      <td>name_email_similarity_2</td>\n",
       "      <td>2.474962</td>\n",
       "      <td>2.474962</td>\n",
       "      <td>1.209563e-07</td>\n",
       "    </tr>\n",
       "    <tr>\n",
       "      <th>19</th>\n",
       "      <td>name_email_similarity_1</td>\n",
       "      <td>-2.253001</td>\n",
       "      <td>2.253001</td>\n",
       "      <td>6.576633e-65</td>\n",
       "    </tr>\n",
       "    <tr>\n",
       "      <th>21</th>\n",
       "      <td>name_email_similarity_3</td>\n",
       "      <td>-2.191540</td>\n",
       "      <td>2.191540</td>\n",
       "      <td>1.048572e-05</td>\n",
       "    </tr>\n",
       "    <tr>\n",
       "      <th>14</th>\n",
       "      <td>housing_status_0</td>\n",
       "      <td>-1.569742</td>\n",
       "      <td>1.569742</td>\n",
       "      <td>2.333244e-49</td>\n",
       "    </tr>\n",
       "    <tr>\n",
       "      <th>7</th>\n",
       "      <td>device_distinct_emails_8w_0</td>\n",
       "      <td>1.424414</td>\n",
       "      <td>1.424414</td>\n",
       "      <td>5.136675e-94</td>\n",
       "    </tr>\n",
       "    <tr>\n",
       "      <th>18</th>\n",
       "      <td>income_2</td>\n",
       "      <td>1.349201</td>\n",
       "      <td>1.349201</td>\n",
       "      <td>3.112199e-57</td>\n",
       "    </tr>\n",
       "    <tr>\n",
       "      <th>8</th>\n",
       "      <td>device_os_0</td>\n",
       "      <td>1.184045</td>\n",
       "      <td>1.184045</td>\n",
       "      <td>2.039565e-191</td>\n",
       "    </tr>\n",
       "    <tr>\n",
       "      <th>11</th>\n",
       "      <td>employment_status_3</td>\n",
       "      <td>-1.078558</td>\n",
       "      <td>1.078558</td>\n",
       "      <td>6.233653e-06</td>\n",
       "    </tr>\n",
       "    <tr>\n",
       "      <th>16</th>\n",
       "      <td>housing_status_4</td>\n",
       "      <td>-1.077380</td>\n",
       "      <td>1.077380</td>\n",
       "      <td>3.450356e-75</td>\n",
       "    </tr>\n",
       "    <tr>\n",
       "      <th>15</th>\n",
       "      <td>housing_status_2</td>\n",
       "      <td>-0.893357</td>\n",
       "      <td>0.893357</td>\n",
       "      <td>6.500122e-67</td>\n",
       "    </tr>\n",
       "    <tr>\n",
       "      <th>10</th>\n",
       "      <td>device_os_3</td>\n",
       "      <td>0.849852</td>\n",
       "      <td>0.849852</td>\n",
       "      <td>1.768314e-28</td>\n",
       "    </tr>\n",
       "    <tr>\n",
       "      <th>17</th>\n",
       "      <td>housing_status_5</td>\n",
       "      <td>-0.830400</td>\n",
       "      <td>0.830400</td>\n",
       "      <td>8.585389e-09</td>\n",
       "    </tr>\n",
       "    <tr>\n",
       "      <th>13</th>\n",
       "      <td>employment_status_5</td>\n",
       "      <td>-0.818428</td>\n",
       "      <td>0.818428</td>\n",
       "      <td>3.692062e-03</td>\n",
       "    </tr>\n",
       "    <tr>\n",
       "      <th>9</th>\n",
       "      <td>device_os_2</td>\n",
       "      <td>0.768360</td>\n",
       "      <td>0.768360</td>\n",
       "      <td>7.364785e-05</td>\n",
       "    </tr>\n",
       "    <tr>\n",
       "      <th>23</th>\n",
       "      <td>payment_type_2</td>\n",
       "      <td>0.620383</td>\n",
       "      <td>0.620383</td>\n",
       "      <td>7.705825e-21</td>\n",
       "    </tr>\n",
       "    <tr>\n",
       "      <th>12</th>\n",
       "      <td>employment_status_4</td>\n",
       "      <td>-0.614187</td>\n",
       "      <td>0.614187</td>\n",
       "      <td>1.357177e-20</td>\n",
       "    </tr>\n",
       "    <tr>\n",
       "      <th>22</th>\n",
       "      <td>payment_type_0</td>\n",
       "      <td>0.557319</td>\n",
       "      <td>0.557319</td>\n",
       "      <td>1.380888e-14</td>\n",
       "    </tr>\n",
       "    <tr>\n",
       "      <th>0</th>\n",
       "      <td>bank_branch_count_8w_bin_1</td>\n",
       "      <td>-0.541068</td>\n",
       "      <td>0.541068</td>\n",
       "      <td>3.006707e-27</td>\n",
       "    </tr>\n",
       "    <tr>\n",
       "      <th>29</th>\n",
       "      <td>session_length_in_minutes_bin_2</td>\n",
       "      <td>0.511155</td>\n",
       "      <td>0.511155</td>\n",
       "      <td>1.430619e-09</td>\n",
       "    </tr>\n",
       "    <tr>\n",
       "      <th>24</th>\n",
       "      <td>payment_type_3</td>\n",
       "      <td>0.398626</td>\n",
       "      <td>0.398626</td>\n",
       "      <td>1.312040e-11</td>\n",
       "    </tr>\n",
       "    <tr>\n",
       "      <th>5</th>\n",
       "      <td>date_of_birth_distinct_emails_4w_1</td>\n",
       "      <td>-0.174966</td>\n",
       "      <td>0.174966</td>\n",
       "      <td>2.264291e-57</td>\n",
       "    </tr>\n",
       "    <tr>\n",
       "      <th>6</th>\n",
       "      <td>days_since_request_bin_1</td>\n",
       "      <td>-0.088966</td>\n",
       "      <td>0.088966</td>\n",
       "      <td>1.632021e-02</td>\n",
       "    </tr>\n",
       "    <tr>\n",
       "      <th>3</th>\n",
       "      <td>current_address_months_count_1</td>\n",
       "      <td>0.022635</td>\n",
       "      <td>0.022635</td>\n",
       "      <td>3.701990e-110</td>\n",
       "    </tr>\n",
       "    <tr>\n",
       "      <th>25</th>\n",
       "      <td>proposed_credit_limit_0</td>\n",
       "      <td>-0.011863</td>\n",
       "      <td>0.011863</td>\n",
       "      <td>4.172571e-260</td>\n",
       "    </tr>\n",
       "    <tr>\n",
       "      <th>4</th>\n",
       "      <td>current_address_months_count_2</td>\n",
       "      <td>-0.010750</td>\n",
       "      <td>0.010750</td>\n",
       "      <td>3.001583e-83</td>\n",
       "    </tr>\n",
       "    <tr>\n",
       "      <th>1</th>\n",
       "      <td>credit_risk_score_0</td>\n",
       "      <td>0.010440</td>\n",
       "      <td>0.010440</td>\n",
       "      <td>4.172571e-260</td>\n",
       "    </tr>\n",
       "    <tr>\n",
       "      <th>2</th>\n",
       "      <td>credit_risk_score_3</td>\n",
       "      <td>0.008095</td>\n",
       "      <td>0.008095</td>\n",
       "      <td>1.505301e-72</td>\n",
       "    </tr>\n",
       "    <tr>\n",
       "      <th>28</th>\n",
       "      <td>proposed_credit_limit_3</td>\n",
       "      <td>0.002306</td>\n",
       "      <td>0.002306</td>\n",
       "      <td>2.936428e-63</td>\n",
       "    </tr>\n",
       "    <tr>\n",
       "      <th>27</th>\n",
       "      <td>proposed_credit_limit_2</td>\n",
       "      <td>0.000786</td>\n",
       "      <td>0.000786</td>\n",
       "      <td>1.991863e-13</td>\n",
       "    </tr>\n",
       "    <tr>\n",
       "      <th>26</th>\n",
       "      <td>proposed_credit_limit_1</td>\n",
       "      <td>-0.000581</td>\n",
       "      <td>0.000581</td>\n",
       "      <td>7.075112e-11</td>\n",
       "    </tr>\n",
       "  </tbody>\n",
       "</table>\n",
       "</div>"
      ],
      "text/plain": [
       "                               feature      coef  abs_coef       p-values\n",
       "20             name_email_similarity_2  2.474962  2.474962   1.209563e-07\n",
       "19             name_email_similarity_1 -2.253001  2.253001   6.576633e-65\n",
       "21             name_email_similarity_3 -2.191540  2.191540   1.048572e-05\n",
       "14                    housing_status_0 -1.569742  1.569742   2.333244e-49\n",
       "7          device_distinct_emails_8w_0  1.424414  1.424414   5.136675e-94\n",
       "18                            income_2  1.349201  1.349201   3.112199e-57\n",
       "8                          device_os_0  1.184045  1.184045  2.039565e-191\n",
       "11                 employment_status_3 -1.078558  1.078558   6.233653e-06\n",
       "16                    housing_status_4 -1.077380  1.077380   3.450356e-75\n",
       "15                    housing_status_2 -0.893357  0.893357   6.500122e-67\n",
       "10                         device_os_3  0.849852  0.849852   1.768314e-28\n",
       "17                    housing_status_5 -0.830400  0.830400   8.585389e-09\n",
       "13                 employment_status_5 -0.818428  0.818428   3.692062e-03\n",
       "9                          device_os_2  0.768360  0.768360   7.364785e-05\n",
       "23                      payment_type_2  0.620383  0.620383   7.705825e-21\n",
       "12                 employment_status_4 -0.614187  0.614187   1.357177e-20\n",
       "22                      payment_type_0  0.557319  0.557319   1.380888e-14\n",
       "0           bank_branch_count_8w_bin_1 -0.541068  0.541068   3.006707e-27\n",
       "29     session_length_in_minutes_bin_2  0.511155  0.511155   1.430619e-09\n",
       "24                      payment_type_3  0.398626  0.398626   1.312040e-11\n",
       "5   date_of_birth_distinct_emails_4w_1 -0.174966  0.174966   2.264291e-57\n",
       "6             days_since_request_bin_1 -0.088966  0.088966   1.632021e-02\n",
       "3       current_address_months_count_1  0.022635  0.022635  3.701990e-110\n",
       "25             proposed_credit_limit_0 -0.011863  0.011863  4.172571e-260\n",
       "4       current_address_months_count_2 -0.010750  0.010750   3.001583e-83\n",
       "1                  credit_risk_score_0  0.010440  0.010440  4.172571e-260\n",
       "2                  credit_risk_score_3  0.008095  0.008095   1.505301e-72\n",
       "28             proposed_credit_limit_3  0.002306  0.002306   2.936428e-63\n",
       "27             proposed_credit_limit_2  0.000786  0.000786   1.991863e-13\n",
       "26             proposed_credit_limit_1 -0.000581  0.000581   7.075112e-11"
      ]
     },
     "execution_count": 17,
     "metadata": {},
     "output_type": "execute_result"
    }
   ],
   "source": [
    "utilities.get_beta_n_pvalues(model2)"
   ]
  },
  {
   "cell_type": "code",
   "execution_count": 18,
   "id": "4e04cac5-c875-4ece-a661-8cf7d798c57e",
   "metadata": {},
   "outputs": [
    {
     "name": "stdout",
     "output_type": "stream",
     "text": [
      "                 Generalized Linear Model Regression Results                  \n",
      "==============================================================================\n",
      "Dep. Variable:             fraud_bool   No. Observations:                23973\n",
      "Model:                            GLM   Df Residuals:                    23944\n",
      "Model Family:                Binomial   Df Model:                           28\n",
      "Link Function:                  Logit   Scale:                          1.0000\n",
      "Method:                          IRLS   Log-Likelihood:                -14297.\n",
      "Date:                Fri, 20 Jun 2025   Deviance:                       28594.\n",
      "Time:                        15:01:33   Pearson chi2:                 1.95e+05\n",
      "No. Iterations:                    22   Pseudo R-squ. (CS):             0.2685\n",
      "Covariance Type:            nonrobust                                         \n",
      "======================================================================================================\n",
      "                                         coef    std err          z      P>|z|      [0.025      0.975]\n",
      "------------------------------------------------------------------------------------------------------\n",
      "bank_branch_count_8w_bin_1            -0.5411      0.050    -10.812      0.000      -0.639      -0.443\n",
      "credit_risk_score_0                    0.0104      0.000     34.452      0.000       0.010       0.011\n",
      "credit_risk_score_3                    0.0081      0.000     18.014      0.000       0.007       0.009\n",
      "current_address_months_count_1         0.0226      0.001     22.300      0.000       0.021       0.025\n",
      "current_address_months_count_2        -0.0108      0.001    -19.330      0.000      -0.012      -0.010\n",
      "date_of_birth_distinct_emails_4w_1    -0.1750      0.011    -15.964      0.000      -0.196      -0.153\n",
      "days_since_request_bin_1              -0.0890      0.037     -2.402      0.016      -0.162      -0.016\n",
      "device_distinct_emails_8w_0            1.4244      0.069     20.570      0.000       1.289       1.560\n",
      "device_os_0                            1.1840      0.040     29.512      0.000       1.105       1.263\n",
      "device_os_2                            0.7684      0.194      3.964      0.000       0.388       1.148\n",
      "device_os_3                            0.8499      0.077     11.069      0.000       0.699       1.000\n",
      "employment_status_3                   -1.0786      0.239     -4.518      0.000      -1.546      -0.611\n",
      "employment_status_4                   -0.6142      0.066     -9.304      0.000      -0.744      -0.485\n",
      "employment_status_5                   -0.8184      0.282     -2.903      0.004      -1.371      -0.266\n",
      "housing_status_0                      -1.5697      0.106    -14.769      0.000      -1.778      -1.361\n",
      "housing_status_2                      -0.8934      0.052    -17.281      0.000      -0.995      -0.792\n",
      "housing_status_4                      -1.0774      0.059    -18.348      0.000      -1.192      -0.962\n",
      "housing_status_5                      -0.8304      0.144     -5.757      0.000      -1.113      -0.548\n",
      "income_2                               1.3492      0.085     15.944      0.000       1.183       1.515\n",
      "name_email_similarity_1               -2.2530      0.132    -17.013      0.000      -2.513      -1.993\n",
      "name_email_similarity_2                2.4750      0.468      5.292      0.000       1.558       3.392\n",
      "name_email_similarity_3               -2.1915      0.497     -4.407      0.000      -3.166      -1.217\n",
      "payment_type_0                         0.5573      0.072      7.698      0.000       0.415       0.699\n",
      "payment_type_2                         0.6204      0.066      9.364      0.000       0.491       0.750\n",
      "payment_type_3                         0.3986      0.059      6.767      0.000       0.283       0.514\n",
      "proposed_credit_limit_0               -0.0119      0.000    -34.452      0.000      -0.013      -0.011\n",
      "proposed_credit_limit_1               -0.0006   8.91e-05     -6.519      0.000      -0.001      -0.000\n",
      "proposed_credit_limit_2                0.0008      0.000      7.349      0.000       0.001       0.001\n",
      "proposed_credit_limit_3                0.0023      0.000     16.789      0.000       0.002       0.003\n",
      "session_length_in_minutes_bin_2        0.5112      0.084      6.052      0.000       0.346       0.677\n",
      "======================================================================================================\n"
     ]
    }
   ],
   "source": [
    "print(model2.summary())"
   ]
  },
  {
   "cell_type": "code",
   "execution_count": 19,
   "id": "9deca430-c1f7-425e-90ed-63836e24889c",
   "metadata": {},
   "outputs": [],
   "source": [
    "#spec3"
   ]
  },
  {
   "cell_type": "code",
   "execution_count": 20,
   "id": "0790803e-6c27-436d-a56a-106f40911f56",
   "metadata": {},
   "outputs": [],
   "source": [
    "predictions =  model2.predict(Xtrain[model2_spec])"
   ]
  },
  {
   "cell_type": "code",
   "execution_count": 21,
   "id": "c7fea537-877c-48e5-a046-df703daf6648",
   "metadata": {},
   "outputs": [],
   "source": [
    "ans = feature_engineering.f_select_interaction_reg(train_sample, model2_spec, 'fraud_bool', mtype='classification', sample_weight=weights,\n",
    "                                            interaction_only=True, kbest = 20, order=2, offset = np.log(predictions/(1-predictions)))"
   ]
  },
  {
   "cell_type": "code",
   "execution_count": 22,
   "id": "9561e61b-de3d-48df-9776-9a438fed356d",
   "metadata": {},
   "outputs": [
    {
     "data": {
      "text/plain": [
       "['device_os_2*housing_status_0',\n",
       " 'employment_status_5*name_email_similarity_3',\n",
       " 'employment_status_4*name_email_similarity_3',\n",
       " 'device_os_2*name_email_similarity_2',\n",
       " 'employment_status_5*name_email_similarity_2',\n",
       " 'housing_status_0*name_email_similarity_3',\n",
       " 'employment_status_3*name_email_similarity_1',\n",
       " 'employment_status_3*name_email_similarity_2',\n",
       " 'employment_status_5*housing_status_5',\n",
       " 'device_distinct_emails_8w_0*name_email_similarity_3',\n",
       " 'employment_status_3*name_email_similarity_3',\n",
       " 'employment_status_5*name_email_similarity_1',\n",
       " 'device_os_3*name_email_similarity_2',\n",
       " 'device_distinct_emails_8w_0*device_os_2',\n",
       " 'name_email_similarity_2*session_length_in_minutes_bin_2',\n",
       " 'device_distinct_emails_8w_0*name_email_similarity_2',\n",
       " 'device_os_0*name_email_similarity_2',\n",
       " 'housing_status_5*name_email_similarity_2',\n",
       " 'bank_branch_count_8w_bin_1*employment_status_3',\n",
       " 'employment_status_3*payment_type_0']"
      ]
     },
     "execution_count": 22,
     "metadata": {},
     "output_type": "execute_result"
    }
   ],
   "source": [
    "ans.feature.tolist()"
   ]
  },
  {
   "cell_type": "code",
   "execution_count": 23,
   "id": "123d1ba6-3991-4529-9d41-888cce3df3fe",
   "metadata": {},
   "outputs": [
    {
     "data": {
      "text/plain": [
       "'device_os_2*housing_status_0+employment_status_5*name_email_similarity_3+employment_status_4*name_email_similarity_3+device_os_2*name_email_similarity_2+employment_status_5*name_email_similarity_2+housing_status_0*name_email_similarity_3+employment_status_3*name_email_similarity_1+employment_status_3*name_email_similarity_2+employment_status_5*housing_status_5+device_distinct_emails_8w_0*name_email_similarity_3+employment_status_3*name_email_similarity_3+employment_status_5*name_email_similarity_1+device_os_3*name_email_similarity_2+device_distinct_emails_8w_0*device_os_2+name_email_similarity_2*session_length_in_minutes_bin_2+device_distinct_emails_8w_0*name_email_similarity_2+device_os_0*name_email_similarity_2+housing_status_5*name_email_similarity_2+bank_branch_count_8w_bin_1*employment_status_3+employment_status_3*payment_type_0'"
      ]
     },
     "execution_count": 23,
     "metadata": {},
     "output_type": "execute_result"
    }
   ],
   "source": [
    "'+'.join(ans.feature.tolist())"
   ]
  },
  {
   "cell_type": "code",
   "execution_count": 24,
   "id": "1a133c1c-d967-4d88-9271-9ed84779d551",
   "metadata": {},
   "outputs": [],
   "source": [
    "formula = 'fraud_bool ~ ' + '+'.join(model2_spec) + ' + ' + '+'.join(ans.feature.tolist())"
   ]
  },
  {
   "cell_type": "code",
   "execution_count": 25,
   "id": "e5e4db70-f80e-4e60-b9ec-7231ddd5359e",
   "metadata": {},
   "outputs": [
    {
     "data": {
      "text/plain": [
       "'fraud_bool ~ bank_branch_count_8w_bin_1+credit_risk_score_0+credit_risk_score_3+current_address_months_count_1+current_address_months_count_2+date_of_birth_distinct_emails_4w_1+days_since_request_bin_1+device_distinct_emails_8w_0+device_os_0+device_os_2+device_os_3+employment_status_3+employment_status_4+employment_status_5+housing_status_0+housing_status_2+housing_status_4+housing_status_5+income_2+name_email_similarity_1+name_email_similarity_2+name_email_similarity_3+payment_type_0+payment_type_2+payment_type_3+proposed_credit_limit_0+proposed_credit_limit_1+proposed_credit_limit_2+proposed_credit_limit_3+session_length_in_minutes_bin_2 + device_os_2*housing_status_0+employment_status_5*name_email_similarity_3+employment_status_4*name_email_similarity_3+device_os_2*name_email_similarity_2+employment_status_5*name_email_similarity_2+housing_status_0*name_email_similarity_3+employment_status_3*name_email_similarity_1+employment_status_3*name_email_similarity_2+employment_status_5*housing_status_5+device_distinct_emails_8w_0*name_email_similarity_3+employment_status_3*name_email_similarity_3+employment_status_5*name_email_similarity_1+device_os_3*name_email_similarity_2+device_distinct_emails_8w_0*device_os_2+name_email_similarity_2*session_length_in_minutes_bin_2+device_distinct_emails_8w_0*name_email_similarity_2+device_os_0*name_email_similarity_2+housing_status_5*name_email_similarity_2+bank_branch_count_8w_bin_1*employment_status_3+employment_status_3*payment_type_0'"
      ]
     },
     "execution_count": 25,
     "metadata": {},
     "output_type": "execute_result"
    }
   ],
   "source": [
    "formula"
   ]
  },
  {
   "cell_type": "code",
   "execution_count": 26,
   "id": "44052104-0f4f-418b-8afd-4285f0b60ae9",
   "metadata": {},
   "outputs": [],
   "source": [
    "model3 = smf.glm(formula=formula, data=train_sample, family=sm.families.Binomial(),var_weights=weights).fit()"
   ]
  },
  {
   "cell_type": "code",
   "execution_count": 27,
   "id": "4308241c-f92c-4701-9ac8-368869148d65",
   "metadata": {},
   "outputs": [
    {
     "name": "stdout",
     "output_type": "stream",
     "text": [
      "                 Generalized Linear Model Regression Results                  \n",
      "==============================================================================\n",
      "Dep. Variable:             fraud_bool   No. Observations:                23973\n",
      "Model:                            GLM   Df Residuals:                    23924\n",
      "Model Family:                Binomial   Df Model:                           48\n",
      "Link Function:                  Logit   Scale:                          1.0000\n",
      "Method:                          IRLS   Log-Likelihood:                -14274.\n",
      "Date:                Fri, 20 Jun 2025   Deviance:                       28548.\n",
      "Time:                        15:02:03   Pearson chi2:                 1.95e+05\n",
      "No. Iterations:                    26   Pseudo R-squ. (CS):             0.2699\n",
      "Covariance Type:            nonrobust                                         \n",
      "===================================================================================================================================\n",
      "                                                                      coef    std err          z      P>|z|      [0.025      0.975]\n",
      "-----------------------------------------------------------------------------------------------------------------------------------\n",
      "Intercept                                                       -5.945e-05   1.75e-06    -34.034      0.000   -6.29e-05    -5.6e-05\n",
      "bank_branch_count_8w_bin_1[T.True]                                 -0.5405      0.050    -10.771      0.000      -0.639      -0.442\n",
      "days_since_request_bin_1[T.True]                                   -0.0838      0.037     -2.259      0.024      -0.156      -0.011\n",
      "session_length_in_minutes_bin_2[T.True]                             0.5885      0.099      5.948      0.000       0.395       0.782\n",
      "credit_risk_score_0                                                 0.0105      0.000     34.034      0.000       0.010       0.011\n",
      "credit_risk_score_3                                                 0.0081      0.000     18.055      0.000       0.007       0.009\n",
      "current_address_months_count_1                                      0.0227      0.001     22.346      0.000       0.021       0.025\n",
      "current_address_months_count_2                                     -0.0108      0.001    -19.352      0.000      -0.012      -0.010\n",
      "date_of_birth_distinct_emails_4w_1                                 -0.1754      0.011    -15.998      0.000      -0.197      -0.154\n",
      "device_distinct_emails_8w_0                                         1.3821      0.081     17.152      0.000       1.224       1.540\n",
      "device_os_0                                                         1.1795      0.048     24.698      0.000       1.086       1.273\n",
      "device_os_2                                                         1.0314      0.228      4.529      0.000       0.585       1.478\n",
      "device_os_3                                                         0.8648      0.089      9.732      0.000       0.691       1.039\n",
      "employment_status_3                                                -0.8467      0.555     -1.525      0.127      -1.935       0.242\n",
      "bank_branch_count_8w_bin_1[T.True]:employment_status_3             -0.2668      0.518     -0.515      0.607      -1.283       0.749\n",
      "employment_status_4                                                -0.5793      0.070     -8.260      0.000      -0.717      -0.442\n",
      "employment_status_5                                                -0.5969      0.591     -1.010      0.313      -1.755       0.561\n",
      "housing_status_0                                                   -1.5857      0.117    -13.499      0.000      -1.816      -1.355\n",
      "housing_status_2                                                   -0.8949      0.052    -17.277      0.000      -0.996      -0.793\n",
      "housing_status_4                                                   -1.0733      0.059    -18.269      0.000      -1.188      -0.958\n",
      "housing_status_5                                                   -1.0098      0.185     -5.447      0.000      -1.373      -0.646\n",
      "income_2                                                            1.3552      0.085     15.987      0.000       1.189       1.521\n",
      "name_email_similarity_1                                            -2.2388      0.133    -16.818      0.000      -2.500      -1.978\n",
      "name_email_similarity_2                                             2.5299      0.610      4.146      0.000       1.334       3.726\n",
      "name_email_similarity_2:session_length_in_minutes_bin_2[T.True]    -1.6263      1.205     -1.349      0.177      -3.988       0.736\n",
      "name_email_similarity_3                                            -2.3530      0.523     -4.495      0.000      -3.379      -1.327\n",
      "payment_type_0                                                      0.5389      0.073      7.408      0.000       0.396       0.681\n",
      "payment_type_2                                                      0.6199      0.066      9.348      0.000       0.490       0.750\n",
      "payment_type_3                                                      0.3942      0.059      6.689      0.000       0.279       0.510\n",
      "proposed_credit_limit_0                                            -0.0119      0.000    -34.034      0.000      -0.013      -0.011\n",
      "proposed_credit_limit_1                                            -0.0006   8.91e-05     -6.516      0.000      -0.001      -0.000\n",
      "proposed_credit_limit_2                                             0.0008      0.000      7.328      0.000       0.001       0.001\n",
      "proposed_credit_limit_3                                             0.0023      0.000     16.731      0.000       0.002       0.003\n",
      "device_os_2:housing_status_0                                      -22.8250   4.71e+04     -0.000      1.000   -9.24e+04    9.24e+04\n",
      "employment_status_5:name_email_similarity_3                        27.4550     10.397      2.641      0.008       7.078      47.832\n",
      "employment_status_4:name_email_similarity_3                        -1.9416      1.571     -1.236      0.216      -5.021       1.137\n",
      "device_os_2:name_email_similarity_2                                -6.8866      3.204     -2.150      0.032     -13.166      -0.607\n",
      "employment_status_5:name_email_similarity_2                       -22.9706     15.080     -1.523      0.128     -52.527       6.586\n",
      "housing_status_0:name_email_similarity_3                            1.0383      1.900      0.547      0.585      -2.685       4.762\n",
      "employment_status_3:name_email_similarity_1                        -1.4018      1.740     -0.806      0.421      -4.813       2.009\n",
      "employment_status_3:name_email_similarity_2                        -5.3675      8.246     -0.651      0.515     -21.530      10.795\n",
      "employment_status_5:housing_status_5                              -22.8279   8.03e+04     -0.000      1.000   -1.57e+05    1.57e+05\n",
      "device_distinct_emails_8w_0:name_email_similarity_3                 1.5229      2.053      0.742      0.458      -2.501       5.547\n",
      "employment_status_3:name_email_similarity_3                        10.6026      7.579      1.399      0.162      -4.251      25.456\n",
      "employment_status_5:name_email_similarity_1                        -1.1262      2.030     -0.555      0.579      -5.105       2.853\n",
      "device_os_3:name_email_similarity_2                                -0.4325      1.093     -0.396      0.692      -2.575       1.710\n",
      "device_distinct_emails_8w_0:device_os_2                             3.0185      0.867      3.481      0.000       1.319       4.718\n",
      "device_distinct_emails_8w_0:name_email_similarity_2                 0.0919      1.546      0.059      0.953      -2.937       3.121\n",
      "device_os_0:name_email_similarity_2                                 0.1045      0.541      0.193      0.847      -0.956       1.165\n",
      "housing_status_5:name_email_similarity_2                            3.5383      1.849      1.914      0.056      -0.086       7.162\n",
      "employment_status_3:payment_type_0                                  1.3888      0.537      2.587      0.010       0.336       2.441\n",
      "===================================================================================================================================\n"
     ]
    }
   ],
   "source": [
    "print(model3.summary())"
   ]
  },
  {
   "cell_type": "code",
   "execution_count": 1,
   "id": "833f3007-1167-4d38-8252-12183a0e8223",
   "metadata": {},
   "outputs": [],
   "source": [
    "# model4 = model3\n",
    "# while True:\n",
    "#     res = utilities.get_beta_n_pvalues(model4)\n",
    "#     spec = list(res['feature'].values)\n",
    "#     newspec = sorted(res.loc[(pd.notna(res['p-values'])) & (res['p-values']<0.05),'feature'])\n",
    "#     if len(newspec) == len(spec):\n",
    "#         break\n",
    "#     else:\n",
    "#         glm = sm.GLM(ytrain, Xtrain[newspec], family=sm.families.Binomial(), var_weights=weights)\n",
    "#         model4 = glm.fit()"
   ]
  },
  {
   "cell_type": "code",
   "execution_count": 3,
   "id": "fc8c35a2-3e6b-45c5-9cbd-0a740da61aa7",
   "metadata": {},
   "outputs": [],
   "source": [
    "# print(model4.summary())"
   ]
  },
  {
   "cell_type": "code",
   "execution_count": null,
   "id": "fcda52a5-beb3-47f9-9cc6-af2f6ab801d4",
   "metadata": {},
   "outputs": [],
   "source": []
  },
  {
   "cell_type": "code",
   "execution_count": null,
   "id": "007df266-54ac-4cd1-9079-2fd477aa4046",
   "metadata": {},
   "outputs": [],
   "source": []
  },
  {
   "cell_type": "code",
   "execution_count": null,
   "id": "38fb7298-3541-44e2-af62-7192374b3380",
   "metadata": {},
   "outputs": [],
   "source": []
  },
  {
   "cell_type": "code",
   "execution_count": null,
   "id": "7934e882-12fc-4e2b-aab3-6501f3cf45bf",
   "metadata": {},
   "outputs": [],
   "source": []
  },
  {
   "cell_type": "code",
   "execution_count": null,
   "id": "3aa2cdd7-ef5d-490e-804b-fe9079134ae8",
   "metadata": {},
   "outputs": [],
   "source": []
  },
  {
   "cell_type": "code",
   "execution_count": null,
   "id": "5337dae6-d22a-4864-9435-6f7af25cdf59",
   "metadata": {},
   "outputs": [],
   "source": []
  },
  {
   "cell_type": "code",
   "execution_count": null,
   "id": "5430c460-d485-4f83-a44f-4795dadfd103",
   "metadata": {},
   "outputs": [],
   "source": []
  },
  {
   "cell_type": "code",
   "execution_count": null,
   "id": "a300cf6a-715f-491c-a4e4-09790c54d474",
   "metadata": {},
   "outputs": [],
   "source": []
  },
  {
   "cell_type": "code",
   "execution_count": null,
   "id": "fd4dce35-bb2d-4792-80a0-89d0c732167e",
   "metadata": {},
   "outputs": [],
   "source": []
  },
  {
   "cell_type": "code",
   "execution_count": null,
   "id": "98262747-667a-4ba9-addc-97a0ea1e2948",
   "metadata": {},
   "outputs": [],
   "source": []
  },
  {
   "cell_type": "code",
   "execution_count": null,
   "id": "d052618a-9d80-45c1-8307-25b58f450c39",
   "metadata": {},
   "outputs": [],
   "source": []
  },
  {
   "cell_type": "code",
   "execution_count": null,
   "id": "cf6b75f4-3a4f-413a-a8fd-f4a1d67c3b10",
   "metadata": {},
   "outputs": [],
   "source": []
  },
  {
   "cell_type": "code",
   "execution_count": null,
   "id": "d8f8846b-fe7b-46c5-b9ae-615bd8aca058",
   "metadata": {},
   "outputs": [],
   "source": []
  },
  {
   "cell_type": "code",
   "execution_count": null,
   "id": "aea2a7f1-e84c-47e1-9c05-7bcd8cee562f",
   "metadata": {},
   "outputs": [],
   "source": []
  },
  {
   "cell_type": "code",
   "execution_count": 47,
   "id": "7613f7ed-0a57-4f54-b882-13484d2ad013",
   "metadata": {},
   "outputs": [],
   "source": [
    "x_spline = train_sample[['velocity_24h', 'velocity_4w']]\n",
    "bs = BSplines(x_spline, df=[12, 12], degree=[3, 3], constraints='center', include_intercept=True) "
   ]
  },
  {
   "cell_type": "code",
   "execution_count": 48,
   "id": "6aee6644-2ba8-4452-bc93-c0cb558077f9",
   "metadata": {},
   "outputs": [
    {
     "name": "stdout",
     "output_type": "stream",
     "text": [
      "                 Generalized Linear Model Regression Results                  \n",
      "==============================================================================\n",
      "Dep. Variable:             fraud_bool   No. Observations:                23973\n",
      "Model:                         GLMGam   Df Residuals:                 23065.82\n",
      "Model Family:                Binomial   Df Model:                       906.18\n",
      "Link Function:                  Logit   Scale:                          1.0000\n",
      "Method:                         PIRLS   Log-Likelihood:                -30950.\n",
      "Date:                Fri, 20 Jun 2025   Deviance:                       61900.\n",
      "Time:                        14:59:11   Pearson chi2:                 5.63e+04\n",
      "No. Iterations:                    47   Pseudo R-squ. (CS):             -1.935\n",
      "Covariance Type:            nonrobust                                         \n",
      "=======================================================================================================================\n",
      "                                                          coef    std err          z      P>|z|      [0.025      0.975]\n",
      "-----------------------------------------------------------------------------------------------------------------------\n",
      "Intercept                                           -2.699e-05   2.15e-06    -12.581      0.000   -3.12e-05   -2.28e-05\n",
      "bank_branch_count_8w_bin_1[T.True]                     -0.5606      0.061     -9.212      0.000      -0.680      -0.441\n",
      "days_since_request_bin_1[T.True]                       -0.1055      0.045     -2.342      0.019      -0.194      -0.017\n",
      "session_length_in_minutes_bin_2[T.True]                 0.5396      0.108      4.997      0.000       0.328       0.751\n",
      "credit_risk_score_0                                     0.0050    270.706   1.84e-05      1.000    -530.569     530.579\n",
      "credit_risk_score_3                                     0.0084      0.001     14.231      0.000       0.007       0.010\n",
      "current_address_months_count_1                          0.0239      0.001     19.703      0.000       0.022       0.026\n",
      "current_address_months_count_2                         -0.0111      0.001    -15.861      0.000      -0.012      -0.010\n",
      "date_of_birth_distinct_emails_4w_1                     -0.1771      0.014    -12.539      0.000      -0.205      -0.149\n",
      "device_distinct_emails_8w_0                             1.3394      0.108     12.379      0.000       1.127       1.551\n",
      "device_os_0                                             1.2137      0.047     25.841      0.000       1.122       1.306\n",
      "device_os_2                                             1.2237      0.269      4.545      0.000       0.696       1.751\n",
      "device_os_3                                             0.9117      0.092      9.956      0.000       0.732       1.091\n",
      "employment_status_3                                    -0.7468      0.505     -1.478      0.139      -1.737       0.244\n",
      "employment_status_4                                    -0.6454      0.081     -7.932      0.000      -0.805      -0.486\n",
      "employment_status_5                                    -0.8995      0.372     -2.419      0.016      -1.628      -0.171\n",
      "housing_status_0                                       -1.5860      0.125    -12.640      0.000      -1.832      -1.340\n",
      "housing_status_2                                       -0.9271      0.060    -15.383      0.000      -1.045      -0.809\n",
      "housing_status_4                                       -1.0771      0.067    -15.992      0.000      -1.209      -0.945\n",
      "housing_status_5                                       -0.8150      0.163     -5.006      0.000      -1.134      -0.496\n",
      "income_2                                                1.3873      0.101     13.764      0.000       1.190       1.585\n",
      "name_email_similarity_1                                -2.4064      0.163    -14.788      0.000      -2.725      -2.087\n",
      "name_email_similarity_2                                 2.5378      0.556      4.564      0.000       1.448       3.628\n",
      "name_email_similarity_3                                -2.1497      0.597     -3.598      0.000      -3.321      -0.979\n",
      "payment_type_0                                          0.5598      0.085      6.567      0.000       0.393       0.727\n",
      "payment_type_2                                          0.6406      0.079      8.137      0.000       0.486       0.795\n",
      "payment_type_3                                          0.4455      0.068      6.541      0.000       0.312       0.579\n",
      "proposed_credit_limit_0                                -0.0052    238.221  -2.18e-05      1.000    -466.911     466.900\n",
      "proposed_credit_limit_1                                -0.0006      0.000     -5.605      0.000      -0.001      -0.000\n",
      "proposed_credit_limit_2                                 0.0006      0.000      4.474      0.000       0.000       0.001\n",
      "proposed_credit_limit_3                                 0.0028      0.000     13.317      0.000       0.002       0.003\n",
      "device_os_2:housing_status_0                          -35.0707   2.24e+07  -1.57e-06      1.000   -4.38e+07    4.38e+07\n",
      "employment_status_5:name_email_similarity_3            25.3348     11.316      2.239      0.025       3.155      47.514\n",
      "employment_status_4:name_email_similarity_3            -1.5209      1.682     -0.904      0.366      -4.818       1.776\n",
      "device_os_2:name_email_similarity_2                    -7.0864      3.437     -2.062      0.039     -13.823      -0.350\n",
      "employment_status_5:name_email_similarity_2           -23.8375     15.253     -1.563      0.118     -53.732       6.057\n",
      "housing_status_0:name_email_similarity_3                0.6660      1.968      0.338      0.735      -3.192       4.524\n",
      "employment_status_3:name_email_similarity_1            -1.4067      1.828     -0.769      0.442      -4.990       2.176\n",
      "employment_status_3:name_email_similarity_2             1.0918      5.615      0.194      0.846      -9.913      12.097\n",
      "employment_status_5:housing_status_5                  -35.8302   3.36e+07  -1.07e-06      1.000   -6.58e+07    6.58e+07\n",
      "device_distinct_emails_8w_0:name_email_similarity_3     1.9024      1.687      1.128      0.259      -1.404       5.209\n",
      "velocity_24h_s0                                         0.7091      0.689      1.030      0.303      -0.640       2.059\n",
      "velocity_24h_s1                                         0.2822      0.270      1.045      0.296      -0.247       0.812\n",
      "velocity_24h_s2                                         0.2110      0.582      0.362      0.717      -0.930       1.352\n",
      "velocity_24h_s3                                         0.1634      0.348      0.470      0.638      -0.518       0.845\n",
      "velocity_24h_s4                                         0.3803      0.429      0.887      0.375      -0.460       1.221\n",
      "velocity_24h_s5                                         0.4878      0.399      1.223      0.221      -0.294       1.270\n",
      "velocity_24h_s6                                         0.5855      0.432      1.357      0.175      -0.260       1.431\n",
      "velocity_24h_s7                                         0.6933      0.504      1.375      0.169      -0.295       1.681\n",
      "velocity_24h_s8                                         0.0373      0.404      0.092      0.927      -0.755       0.829\n",
      "velocity_24h_s9                                         0.2647      0.604      0.438      0.661      -0.919       1.448\n",
      "velocity_24h_s10                                       -0.3066      0.695     -0.441      0.659      -1.668       1.055\n",
      "velocity_4w_s0                                          0.1811      0.643      0.282      0.778      -1.079       1.441\n",
      "velocity_4w_s1                                          1.2761      0.283      4.517      0.000       0.722       1.830\n",
      "velocity_4w_s2                                         -0.0960      0.304     -0.316      0.752      -0.692       0.500\n",
      "velocity_4w_s3                                         -0.2942      0.211     -1.396      0.163      -0.707       0.119\n",
      "velocity_4w_s4                                          0.5715      0.224      2.553      0.011       0.133       1.010\n",
      "velocity_4w_s5                                          0.0042      0.197      0.022      0.983      -0.382       0.390\n",
      "velocity_4w_s6                                          0.3597      0.207      1.740      0.082      -0.045       0.765\n",
      "velocity_4w_s7                                          0.4344      0.216      2.012      0.044       0.011       0.858\n",
      "velocity_4w_s8                                          0.0283      0.314      0.090      0.928      -0.588       0.645\n",
      "velocity_4w_s9                                          0.7018      0.370      1.899      0.058      -0.023       1.426\n",
      "velocity_4w_s10                                         0.4875      0.376      1.296      0.195      -0.250       1.225\n",
      "=======================================================================================================================\n"
     ]
    }
   ],
   "source": [
    "gam_bs = GLMGam.from_formula(formula, data=train_sample ,smoother=bs, family=sm.families.Binomial(),var_weights=weights)\n",
    "\n",
    "res_bs = gam_bs.fit()\n",
    "\n",
    "print(res_bs.summary())"
   ]
  },
  {
   "cell_type": "code",
   "execution_count": 49,
   "id": "bcb0202d-88c7-4c72-877c-e7c6af5f17a2",
   "metadata": {},
   "outputs": [
    {
     "data": {
      "image/png": "[encoded data removed]",
      "text/plain": [
       "<Figure size 640x480 with 1 Axes>"
      ]
     },
     "metadata": {},
     "output_type": "display_data"
    }
   ],
   "source": [
    "fig = res_bs.plot_partial(0, cpr=True)"
   ]
  },
  {
   "cell_type": "code",
   "execution_count": 50,
   "id": "71d15fa3-251d-430e-99aa-48f102191cd5",
   "metadata": {},
   "outputs": [
    {
     "data": {
      "image/png": "[encoded data removed]",
      "text/plain": [
       "<Figure size 640x480 with 1 Axes>"
      ]
     },
     "metadata": {},
     "output_type": "display_data"
    }
   ],
   "source": [
    "fig = res_bs.plot_partial(1, cpr=True)"
   ]
  },
  {
   "cell_type": "code",
   "execution_count": null,
   "id": "a009e576-3cc8-46d0-931a-45d3ffd64b55",
   "metadata": {},
   "outputs": [],
   "source": []
  },
  {
   "cell_type": "code",
   "execution_count": null,
   "id": "2c3a052e-750b-4cc1-86e7-9432dca93fae",
   "metadata": {},
   "outputs": [],
   "source": []
  },
  {
   "cell_type": "code",
   "execution_count": null,
   "id": "054fc9ae-f319-4827-9087-328780428dc3",
   "metadata": {},
   "outputs": [],
   "source": []
  },
  {
   "cell_type": "code",
   "execution_count": null,
   "id": "5ef0f736-6aae-4e56-ac75-6909d276a0c6",
   "metadata": {},
   "outputs": [],
   "source": []
  }
 ],
 "metadata": {
  "kernelspec": {
   "display_name": "Python 3 (ipykernel)",
   "language": "python",
   "name": "python3"
  },
  "language_info": {
   "codemirror_mode": {
    "name": "ipython",
    "version": 3
   },
   "file_extension": ".py",
   "mimetype": "text/x-python",
   "name": "python",
   "nbconvert_exporter": "python",
   "pygments_lexer": "ipython3",
   "version": "3.12.7"
  }
 },
 "nbformat": 4,
 "nbformat_minor": 5
}
