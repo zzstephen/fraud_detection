{
 "cells": [
  {
   "cell_type": "code",
   "execution_count": 7,
   "id": "d9bb304e-13bf-4eb0-97de-2a37bd171787",
   "metadata": {},
   "outputs": [],
   "source": [
    "import pandas as pd\n",
    "import numpy as np\n",
    "import sys\n",
    "sys.path.append('../utilities')\n",
    "from basic_utilities import *\n",
    "from model_utilities import *\n",
    "from pandas.plotting import scatter_matrix\n",
    "from ml_utilities import *\n",
    "import scipy.stats as stats\n",
    "import pdb\n",
    "import os\n",
    "import warnings\n",
    "warnings.filterwarnings(\"ignore\")\n",
    "import matplotlib.pyplot as plt\n",
    "import pickle\n",
    "sys.path.append('../Data_prep')\n",
    "from data_config import *"
   ]
  },
  {
   "cell_type": "code",
   "execution_count": 9,
   "id": "5645099a-3662-4f8b-94f0-99495e659332",
   "metadata": {},
   "outputs": [
    {
     "name": "stdout",
     "output_type": "stream",
     "text": [
      "/Users/stephenzhou/PycharmProjects/fraud_detection/code/fraud_detection/Model\n"
     ]
    }
   ],
   "source": [
    "!pwd"
   ]
  },
  {
   "cell_type": "code",
   "execution_count": 11,
   "id": "cd21e472-5a2b-4f79-bc74-00f2f9787d00",
   "metadata": {},
   "outputs": [],
   "source": [
    "train_test_sample = pd.read_csv('../../../data/processed_data/train_test_sample.csv')"
   ]
  },
  {
   "cell_type": "code",
   "execution_count": null,
   "id": "83e67072-dfe3-419b-acac-8ce6ef3fdeee",
   "metadata": {},
   "outputs": [],
   "source": []
  },
  {
   "cell_type": "code",
   "execution_count": null,
   "id": "ea13938b-b3b5-4f59-b7e9-41d8fbea9f48",
   "metadata": {},
   "outputs": [],
   "source": []
  },
  {
   "cell_type": "code",
   "execution_count": null,
   "id": "8171d71e-d044-4b8f-add0-63e61b1c8edc",
   "metadata": {},
   "outputs": [],
   "source": []
  },
  {
   "cell_type": "code",
   "execution_count": null,
   "id": "f4d8ac6c-5f1c-4db1-8cc1-d6167bb1e3e2",
   "metadata": {},
   "outputs": [],
   "source": []
  },
  {
   "cell_type": "code",
   "execution_count": null,
   "id": "86489a5d-273e-4d53-b058-7cb8ce48b15d",
   "metadata": {},
   "outputs": [],
   "source": []
  },
  {
   "cell_type": "code",
   "execution_count": null,
   "id": "a10d4bc4-9cbb-4346-bf4c-99c8987e2afd",
   "metadata": {},
   "outputs": [],
   "source": [
    "sk_feature_selection.f_get_interaction_select(raw_data, test_vars, 'fraud_bool', mtype='classification', order=2)"
   ]
  },
  {
   "cell_type": "code",
   "execution_count": null,
   "id": "a701ca23-5985-439d-a536-ec9ffd82214f",
   "metadata": {},
   "outputs": [],
   "source": []
  },
  {
   "cell_type": "code",
   "execution_count": null,
   "id": "e0056814-e8d7-4720-b63a-c265c73fbed7",
   "metadata": {},
   "outputs": [],
   "source": []
  },
  {
   "cell_type": "code",
   "execution_count": null,
   "id": "69bb32a7-25d7-4922-ab47-27accbd42555",
   "metadata": {},
   "outputs": [],
   "source": []
  }
 ],
 "metadata": {
  "kernelspec": {
   "display_name": "Python [conda env:base] *",
   "language": "python",
   "name": "conda-base-py"
  },
  "language_info": {
   "codemirror_mode": {
    "name": "ipython",
    "version": 3
   },
   "file_extension": ".py",
   "mimetype": "text/x-python",
   "name": "python",
   "nbconvert_exporter": "python",
   "pygments_lexer": "ipython3",
   "version": "3.11.7"
  }
 },
 "nbformat": 4,
 "nbformat_minor": 5
}
