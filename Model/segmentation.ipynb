{
 "cells": [
  {
   "cell_type": "code",
   "execution_count": 3,
   "id": "c03a722c-9d41-4325-961a-0d2e55672bfc",
   "metadata": {},
   "outputs": [],
   "source": [
    "import pandas as pd\n",
    "import numpy as np\n",
    "import sys\n",
    "sys.path.append('../utilities')\n",
    "from basic_utilities import *\n",
    "from model_utilities import *\n",
    "from pandas.plotting import scatter_matrix\n",
    "from ml_utilities import sk_feature_selection\n",
    "import scipy.stats as stats\n",
    "import pdb\n",
    "import os\n",
    "import warnings\n",
    "warnings.filterwarnings(\"ignore\")\n",
    "from sklearn.preprocessing import StandardScaler\n",
    "import matplotlib.pyplot as plt\n",
    "from sklearn.mixture import GaussianMixture\n",
    "import pickle"
   ]
  },
  {
   "cell_type": "code",
   "execution_count": 4,
   "id": "fcd00e6a-4337-4cb1-80bc-e48472b11c7d",
   "metadata": {},
   "outputs": [],
   "source": [
    "raw_data = pd.read_csv('../../../data/Base.csv')"
   ]
  },
  {
   "cell_type": "code",
   "execution_count": 5,
   "id": "25ef0a66-0cc5-4bbd-aaaa-9670ca5c4054",
   "metadata": {},
   "outputs": [],
   "source": [
    "train_test = raw_data.loc[raw_data['month']<6]"
   ]
  },
  {
   "cell_type": "code",
   "execution_count": 6,
   "id": "77567018-ab04-4638-acf1-6fa5dca45a78",
   "metadata": {},
   "outputs": [],
   "source": [
    "gm = GaussianMixture(n_components=3, random_state=0, init_params='k-means++').fit(train_test[['credit_risk_score','name_email_similarity']])"
   ]
  },
  {
   "cell_type": "code",
   "execution_count": 7,
   "id": "6e20f2a1-e167-40f5-b686-522002915d56",
   "metadata": {},
   "outputs": [],
   "source": [
    "train_test['cluster'] = gm.predict(train_test[['credit_risk_score','name_email_similarity']])"
   ]
  },
  {
   "cell_type": "code",
   "execution_count": 8,
   "id": "3987dd9d-938d-4d05-8a38-ea9e0547b007",
   "metadata": {},
   "outputs": [],
   "source": [
    "fig = px_scatter_plot(train_test, 'credit_risk_score', 'name_email_similarity', color_var='cluster', show=False)"
   ]
  },
  {
   "cell_type": "code",
   "execution_count": 9,
   "id": "c2052a48-9be2-4b99-bc15-be926fc65734",
   "metadata": {},
   "outputs": [],
   "source": [
    "filename = '../../../model_objects/segment_model.pkl'\n",
    "with open(filename, 'wb') as file:\n",
    "    pickle.dump(gm, file)"
   ]
  },
  {
   "cell_type": "code",
   "execution_count": 10,
   "id": "f5faea29-6f5a-4652-af15-37eaaccd56a2",
   "metadata": {},
   "outputs": [],
   "source": [
    "seg_data=fig.to_image('png')\n",
    "\n",
    "with open('segmentation.png', 'wb') as f:\n",
    "    f.write(seg_data)"
   ]
  },
  {
   "cell_type": "code",
   "execution_count": null,
   "id": "47c3c55c-915c-421b-b856-58edfe3e262d",
   "metadata": {},
   "outputs": [],
   "source": []
  }
 ],
 "metadata": {
  "kernelspec": {
   "display_name": "Python [conda env:base] *",
   "language": "python",
   "name": "conda-base-py"
  },
  "language_info": {
   "codemirror_mode": {
    "name": "ipython",
    "version": 3
   },
   "file_extension": ".py",
   "mimetype": "text/x-python",
   "name": "python",
   "nbconvert_exporter": "python",
   "pygments_lexer": "ipython3",
   "version": "3.11.7"
  }
 },
 "nbformat": 4,
 "nbformat_minor": 5
}
